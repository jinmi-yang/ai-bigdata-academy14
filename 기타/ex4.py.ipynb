{
 "cells": [
  {
   "cell_type": "markdown",
   "metadata": {},
   "source": [
    "## 실습 1\n"
   ]
  },
  {
   "cell_type": "code",
   "execution_count": 1,
   "metadata": {},
   "outputs": [
    {
     "name": "stdout",
     "output_type": "stream",
     "text": [
      "{'first': 1, 'line': 3, 'second': 1, 'third': 1}\n"
     ]
    }
   ],
   "source": [
    "fr = open(\"test.txt\", \"r\")\n",
    "\n",
    "txt = fr.readlines()\n",
    "#print(txt)\n",
    "\n",
    "breaker= list()\n",
    "for line in txt:\n",
    "    breaker += line.split()\n",
    "    #print(breaker)\n",
    "#print(breaker)\n",
    "dic = dict()\n",
    "for a in breaker:\n",
    "    if a not in dic:\n",
    "        dic[a] = 1\n",
    "    else:\n",
    "        dic[a] += 1\n",
    "print(dic)"
   ]
  },
  {
   "cell_type": "markdown",
   "metadata": {},
   "source": [
    "## 실습 2"
   ]
  },
  {
   "cell_type": "code",
   "execution_count": 3,
   "metadata": {},
   "outputs": [
    {
     "name": "stdout",
     "output_type": "stream",
     "text": [
      "enter a file name: new.txt\n",
      "1 LINE\n",
      "2 LINE\n",
      "3 LINE\n",
      "4 LINE\n",
      "5 LINE\n"
     ]
    }
   ],
   "source": [
    "import os\n",
    "\n",
    "filename= input(\"enter a file name: \")\n",
    "if os.path.exists(filename):\n",
    "    fr = open( filename , \"r\")\n",
    "    txt=\"1\"\n",
    "    while txt:\n",
    "        txt = fr.readline()\n",
    "        print(txt.upper(), end=\"\")\n",
    "    \n",
    "else:\n",
    "    print(\"no file\")"
   ]
  },
  {
   "cell_type": "markdown",
   "metadata": {},
   "source": [
    "## 실습 4"
   ]
  },
  {
   "cell_type": "code",
   "execution_count": 2,
   "metadata": {},
   "outputs": [],
   "source": [
    "import os\n",
    "\n",
    "if os.path.exists(\"score.txt\"):\n",
    "    fr = open(\"score.txt\", \"r\")\n",
    "    fw = open(\"report.txt\", \"w\")\n",
    "    student = \"1\"\n",
    "    while 1:\n",
    "        student = fr.readline()\n",
    "        if not student:\n",
    "            break\n",
    "        stu_split = student.split()\n",
    "        stu_avg = int(stu_split[1])*0.4 + int(stu_split[2])*0.6\n",
    "        stu_split.append( str(stu_avg) )\n",
    "        if stu_avg >= 90:\n",
    "            stu_split.append( \"(A)\" )\n",
    "        elif stu_avg >= 80:\n",
    "            stu_split.append( \"(B)\" )\n",
    "        elif stu_avg >= 70:\n",
    "            stu_split.append( \"(C)\" )\n",
    "        elif stu_avg >= 60:\n",
    "            stu_split.append( \"(D)\" )\n",
    "        else:\n",
    "            stu_split.append( \"(F)\" )\n",
    "        #print(stu_split)\n",
    "        for each in stu_split:\n",
    "            #print(str(each))\n",
    "            fw.write(str(each)+' ')\n",
    "        fw.write('\\n')\n",
    "    \n",
    "    fr.close()\n",
    "    fw.close()\n",
    "    \n",
    "else:\n",
    "    print(\"no file\")"
   ]
  }
 ],
 "metadata": {
  "kernelspec": {
   "display_name": "Python 3",
   "language": "python",
   "name": "python3"
  },
  "language_info": {
   "codemirror_mode": {
    "name": "ipython",
    "version": 3
   },
   "file_extension": ".py",
   "mimetype": "text/x-python",
   "name": "python",
   "nbconvert_exporter": "python",
   "pygments_lexer": "ipython3",
   "version": "3.8.5"
  }
 },
 "nbformat": 4,
 "nbformat_minor": 4
}
