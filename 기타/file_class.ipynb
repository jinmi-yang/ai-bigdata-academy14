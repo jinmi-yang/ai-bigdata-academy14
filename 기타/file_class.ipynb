{
 "cells": [
  {
   "cell_type": "code",
   "execution_count": 5,
   "metadata": {},
   "outputs": [],
   "source": [
    "fw = open(\"new.txt\", \"w\")"
   ]
  },
  {
   "cell_type": "code",
   "execution_count": null,
   "metadata": {},
   "outputs": [],
   "source": [
    "for i in range(1,6):\n",
    "    data = \"%d line\\n\" %i\n",
    "    fw.write(data)"
   ]
  },
  {
   "cell_type": "code",
   "execution_count": null,
   "metadata": {},
   "outputs": [],
   "source": [
    "fw.close()\n",
    "\n"
   ]
  },
  {
   "cell_type": "code",
   "execution_count": 7,
   "metadata": {},
   "outputs": [],
   "source": [
    "fr = open(\"new.txt\", \"r\")\n",
    "\n",
    "#fr.close()"
   ]
  },
  {
   "cell_type": "code",
   "execution_count": 8,
   "metadata": {},
   "outputs": [
    {
     "data": {
      "text/plain": [
       "'1 line\\n'"
      ]
     },
     "execution_count": 8,
     "metadata": {},
     "output_type": "execute_result"
    }
   ],
   "source": [
    "line = fr.readline()\n",
    "line"
   ]
  },
  {
   "cell_type": "code",
   "execution_count": 9,
   "metadata": {},
   "outputs": [
    {
     "ename": "TypeError",
     "evalue": "unsupported operand type(s) for -: 'str' and 'str'",
     "output_type": "error",
     "traceback": [
      "\u001b[0;31m---------------------------------------------------------------------------\u001b[0m",
      "\u001b[0;31mTypeError\u001b[0m                                 Traceback (most recent call last)",
      "\u001b[0;32m<ipython-input-9-3609a83c23f2>\u001b[0m in \u001b[0;36m<module>\u001b[0;34m\u001b[0m\n\u001b[0;32m----> 1\u001b[0;31m \u001b[0mline\u001b[0m \u001b[0;34m-\u001b[0m \u001b[0mfr\u001b[0m\u001b[0;34m.\u001b[0m\u001b[0mreadline\u001b[0m\u001b[0;34m(\u001b[0m\u001b[0;34m)\u001b[0m\u001b[0;34m\u001b[0m\u001b[0;34m\u001b[0m\u001b[0m\n\u001b[0m",
      "\u001b[0;31mTypeError\u001b[0m: unsupported operand type(s) for -: 'str' and 'str'"
     ]
    }
   ],
   "source": [
    "line - fr.readline()"
   ]
  },
  {
   "cell_type": "code",
   "execution_count": 13,
   "metadata": {},
   "outputs": [
    {
     "ename": "ValueError",
     "evalue": "I/O operation on closed file.",
     "output_type": "error",
     "traceback": [
      "\u001b[0;31m---------------------------------------------------------------------------\u001b[0m",
      "\u001b[0;31mValueError\u001b[0m                                Traceback (most recent call last)",
      "\u001b[0;32m<ipython-input-13-60e875240678>\u001b[0m in \u001b[0;36m<module>\u001b[0;34m\u001b[0m\n\u001b[0;32m----> 1\u001b[0;31m \u001b[0mline\u001b[0m \u001b[0;34m=\u001b[0m \u001b[0mfr\u001b[0m\u001b[0;34m.\u001b[0m\u001b[0mreadline\u001b[0m\u001b[0;34m(\u001b[0m\u001b[0;34m)\u001b[0m\u001b[0;34m\u001b[0m\u001b[0;34m\u001b[0m\u001b[0m\n\u001b[0m\u001b[1;32m      2\u001b[0m \u001b[0;34m\u001b[0m\u001b[0m\n\u001b[1;32m      3\u001b[0m \u001b[0mline\u001b[0m\u001b[0;34m\u001b[0m\u001b[0;34m\u001b[0m\u001b[0m\n\u001b[1;32m      4\u001b[0m \u001b[0mfr\u001b[0m\u001b[0;34m.\u001b[0m\u001b[0mclose\u001b[0m\u001b[0;34m(\u001b[0m\u001b[0;34m)\u001b[0m\u001b[0;34m\u001b[0m\u001b[0;34m\u001b[0m\u001b[0m\n\u001b[1;32m      5\u001b[0m \u001b[0mline\u001b[0m \u001b[0;34m=\u001b[0m \u001b[0mfr\u001b[0m\u001b[0;34m.\u001b[0m\u001b[0mreadline\u001b[0m\u001b[0;34m(\u001b[0m\u001b[0;34m)\u001b[0m\u001b[0;34m\u001b[0m\u001b[0;34m\u001b[0m\u001b[0m\n",
      "\u001b[0;31mValueError\u001b[0m: I/O operation on closed file."
     ]
    }
   ],
   "source": [
    "line = fr.readline()\n",
    "\n",
    "line\n",
    "fr.close()\n",
    "line = fr.readline()\n",
    "line\n"
   ]
  },
  {
   "cell_type": "code",
   "execution_count": 40,
   "metadata": {},
   "outputs": [
    {
     "name": "stdout",
     "output_type": "stream",
     "text": [
      "1 line\n",
      "2 line\n",
      "3 line\n",
      "4 line\n",
      "5 line\n"
     ]
    }
   ],
   "source": [
    "fr = open(\"new.txt\", \"r\")\n",
    "\n",
    "for line in fr:\n",
    "    print(line, end=\"\")\n",
    "\n",
    "fr.close()"
   ]
  },
  {
   "cell_type": "code",
   "execution_count": 43,
   "metadata": {},
   "outputs": [],
   "source": [
    "import os\n",
    "\n",
    "filename= input(\"enter a file name: \")\n",
    "if os.path.exists(filename):\n",
    "    fr = open( filename , \"r\")\n",
    "    \n",
    "    \n",
    "else:\n",
    "    pass"
   ]
  },
  {
   "cell_type": "code",
   "execution_count": 45,
   "metadata": {},
   "outputs": [
    {
     "data": {
      "text/plain": [
       "True"
      ]
     },
     "execution_count": 45,
     "metadata": {},
     "output_type": "execute_result"
    }
   ],
   "source": [
    "os.path.exists(\"test.txt\")"
   ]
  },
  {
   "cell_type": "markdown",
   "metadata": {},
   "source": [
    "## 실습 1\n"
   ]
  },
  {
   "cell_type": "code",
   "execution_count": 39,
   "metadata": {},
   "outputs": [
    {
     "name": "stdout",
     "output_type": "stream",
     "text": [
      "{'first': 1, 'line': 3, 'second': 1, 'thired': 1}\n"
     ]
    }
   ],
   "source": [
    "fr = open(\"test.txt\", \"r\")\n",
    "\n",
    "txt = fr.readlines()\n",
    "#print(txt)\n",
    "\n",
    "breaker= list()\n",
    "for line in txt:\n",
    "    breaker += line.split()\n",
    "    #print(breaker)\n",
    "#print(breaker)\n",
    "dic = dict()\n",
    "for a in breaker:\n",
    "    if a not in dic:\n",
    "        dic[a] = 1\n",
    "    else:\n",
    "        dic[a] += 1\n",
    "print(dic)"
   ]
  },
  {
   "cell_type": "markdown",
   "metadata": {},
   "source": [
    "## 실습 2"
   ]
  },
  {
   "cell_type": "code",
   "execution_count": 68,
   "metadata": {},
   "outputs": [
    {
     "name": "stdout",
     "output_type": "stream",
     "text": [
      "enter a file name: empty.txt\n"
     ]
    }
   ],
   "source": [
    "import os\n",
    "\n",
    "filename= input(\"enter a file name: \")\n",
    "if os.path.exists(filename):\n",
    "    fr = open( filename , \"r\")\n",
    "    txt=\"1\"\n",
    "    while txt:\n",
    "        txt = fr.readline()\n",
    "        print(txt.upper(), end=\"\")\n",
    "          \n",
    "else:\n",
    "    print(\"no file\")"
   ]
  },
  {
   "cell_type": "markdown",
   "metadata": {},
   "source": [
    "## 실습 4"
   ]
  },
  {
   "cell_type": "code",
   "execution_count": 86,
   "metadata": {},
   "outputs": [],
   "source": [
    "import os\n",
    "\n",
    "if os.path.exists(\"score.txt\"):\n",
    "    fr = open(\"score.txt\", \"r\")\n",
    "    fw = open(\"report.txt\", \"w\")\n",
    "    student = \"1\"\n",
    "    while 1:\n",
    "        student = fr.readline()\n",
    "        if not student:\n",
    "            break\n",
    "        stu_split = student.split()\n",
    "        stu_avg = int(stu_split[1])*0.4 + int(stu_split[2])*0.6\n",
    "        stu_split.append( str(stu_avg) )\n",
    "        if stu_avg >= 90:\n",
    "            stu_split.append( \"(A)\" )\n",
    "        elif stu_avg >= 80:\n",
    "            stu_split.append( \"(B)\" )\n",
    "        elif stu_avg >= 70:\n",
    "            stu_split.append( \"(C)\" )\n",
    "        elif stu_avg >= 60:\n",
    "            stu_split.append( \"(D)\" )\n",
    "        else:\n",
    "            stu_split.append( \"(F)\" )\n",
    "        #print(stu_split)\n",
    "        for each in stu_split:\n",
    "            #print(str(each))\n",
    "            fw.write(str(each)+' ')\n",
    "        fw.write('\\n')\n",
    "    \n",
    "    fr.close()\n",
    "    fw.close()\n",
    "    \n",
    "else:\n",
    "    print(\"no file\")"
   ]
  },
  {
   "cell_type": "code",
   "execution_count": 62,
   "metadata": {},
   "outputs": [
    {
     "name": "stdout",
     "output_type": "stream",
     "text": [
      "6\n",
      "14\n"
     ]
    }
   ],
   "source": [
    "a = [5,5,6,7,8,3]\n",
    "b = 'Life is short.'\n",
    "\n",
    "length_a = 0\n",
    "for _ in a:\n",
    "    length_a+=1\n",
    "print(length_a)    \n",
    "\n",
    "length_b = 0\n",
    "for _ in b:\n",
    "    length_b+=1\n",
    "print(length_b)"
   ]
  },
  {
   "cell_type": "markdown",
   "metadata": {},
   "source": [
    "## 함수 실습 0"
   ]
  },
  {
   "cell_type": "code",
   "execution_count": 56,
   "metadata": {},
   "outputs": [
    {
     "name": "stdout",
     "output_type": "stream",
     "text": [
      "6 14\n",
      "6 14\n"
     ]
    }
   ],
   "source": [
    "def my_len(l):\n",
    "    length = 0\n",
    "    for _ in l:\n",
    "        length += 1\n",
    "    return length\n",
    "\n",
    "a = [5,5,6,7,8,3]\n",
    "b = 'Life is short.'\n",
    "\n",
    "print(len(a),len(b))\n",
    "print(my_len(a), my_len(b))"
   ]
  },
  {
   "cell_type": "markdown",
   "metadata": {},
   "source": [
    "## 함수 실습 1"
   ]
  },
  {
   "cell_type": "code",
   "execution_count": 74,
   "metadata": {},
   "outputs": [
    {
     "name": "stdout",
     "output_type": "stream",
     "text": [
      "3 -1 2 0.5\n"
     ]
    }
   ],
   "source": [
    "def add(a,b):\n",
    "    return a+b\n",
    "def sub(a,b):\n",
    "    return a-b\n",
    "def mul(a,b):\n",
    "    return a*b\n",
    "def div(a,b):\n",
    "    return a/b\n",
    "\n",
    "a=1\n",
    "b=2\n",
    "\n",
    "c = add(a,b)\n",
    "d = sub(a,b)\n",
    "e = mul(a,b)\n",
    "f = div(a,b)\n",
    "\n",
    "print(c,d,e,f)"
   ]
  },
  {
   "cell_type": "markdown",
   "metadata": {},
   "source": [
    "## 함수 과제 1"
   ]
  },
  {
   "cell_type": "code",
   "execution_count": 159,
   "metadata": {},
   "outputs": [
    {
     "name": "stdout",
     "output_type": "stream",
     "text": [
      "13는 소수입니다.\n",
      "15는 소수가 아닙니다.\n"
     ]
    }
   ],
   "source": [
    "def check_prime(num):\n",
    "    for div in range(2, num):\n",
    "        if num % div == 0:\n",
    "            return False\n",
    "    return True\n",
    "\n",
    "def main():\n",
    "    a = 13\n",
    "    b = 15\n",
    "    \n",
    "    if check_prime(a):\n",
    "        print(str(a)+'는 소수입니다.')\n",
    "    else:\n",
    "        print(str(a)+'는 소수가 아닙니다.')\n",
    "        \n",
    "    if check_prime(b):\n",
    "        print(str(b)+'는 소수입니다.')\n",
    "    else:\n",
    "        print(str(b)+'는 소수가 아닙니다.')\n",
    "\n",
    "\n",
    "main()"
   ]
  },
  {
   "cell_type": "markdown",
   "metadata": {},
   "source": [
    "## 함수 과제 2"
   ]
  },
  {
   "cell_type": "code",
   "execution_count": 160,
   "metadata": {},
   "outputs": [
    {
     "name": "stdout",
     "output_type": "stream",
     "text": [
      "1,234\n",
      "12,345,678\n",
      "12\n"
     ]
    }
   ],
   "source": [
    "def add_comma(val):\n",
    "    str_val = list(str(val))\n",
    "    str_rev = str_val[::-1]\n",
    "    #print(str_rev)\n",
    "    mod_rev = \"\"\n",
    "    for i in range(0, len(str_rev)):\n",
    "        mod_rev += str_rev[i]\n",
    "        if( i%3 == 2):\n",
    "            mod_rev+=\",\"\n",
    "    \n",
    "    if mod_rev[-1] == \",\":\n",
    "        mod_rev = mod_rev[:len(mod_rev)-1]\n",
    "    #print(mod_rev)\n",
    "    return mod_rev[::-1]              \n",
    "    \n",
    "def main():\n",
    "    comma_added_1234 = add_comma(1234)\n",
    "    comma_added_12345678 = add_comma(12345678)\n",
    "    comma_added_12 = add_comma(12)\n",
    "    \n",
    "    print(comma_added_1234)\n",
    "    print(comma_added_12345678)\n",
    "    print(comma_added_12)\n",
    "    \n",
    "main()"
   ]
  },
  {
   "cell_type": "markdown",
   "metadata": {},
   "source": [
    "## 함수 과제 3"
   ]
  },
  {
   "cell_type": "code",
   "execution_count": 143,
   "metadata": {},
   "outputs": [
    {
     "name": "stdout",
     "output_type": "stream",
     "text": [
      "['There', 'was', 'a', 'farmer', 'who', 'had', 'a', 'dog', '.']\n",
      "['There was', 'was a', 'a farmer', 'farmer who', 'who had', 'had a', 'a dog', 'dog .']\n"
     ]
    }
   ],
   "source": [
    "def tokenize(trg, N=1):\n",
    "    each_list = trg.split()\n",
    "    if N==1:\n",
    "        return each_list\n",
    "    else:\n",
    "        length = len(each_list)\n",
    "        lst = []\n",
    "        #print(length)\n",
    "        for i in range(0,length-N+1):\n",
    "            tmp = \"\"\n",
    "            for j in range(0, N):\n",
    "                tmp += (each_list[i+j] + \" \")\n",
    "            tmp = tmp[:len(tmp)-1]\n",
    "            lst.append(tmp)\n",
    "            #print(tmp)\n",
    "        return lst\n",
    "                \n",
    "\n",
    "def main():\n",
    "    a = \"There was a farmer who had a dog .\"\n",
    "    print(tokenize(a))\n",
    "    print(tokenize(a, 2))\n",
    "\n",
    "main()"
   ]
  },
  {
   "cell_type": "code",
   "execution_count": 8,
   "metadata": {},
   "outputs": [
    {
     "name": "stdout",
     "output_type": "stream",
     "text": [
      "['dog', 'bark', 'me', 'john']\n",
      "['bark', 'me', 'john', 'car']\n",
      "['me', 'john', 'car', 'owker']\n",
      "['john', 'car', 'owker']\n",
      "['car', 'owker']\n",
      "['owker']\n"
     ]
    },
    {
     "data": {
      "text/plain": [
       "[['dog', 'bark', 'me', 'john'],\n",
       " ['bark', 'me', 'john', 'car'],\n",
       " ['me', 'john', 'car', 'owker'],\n",
       " ['john', 'car', 'owker'],\n",
       " ['car', 'owker'],\n",
       " ['owker']]"
      ]
     },
     "execution_count": 8,
     "metadata": {},
     "output_type": "execute_result"
    }
   ],
   "source": [
    "def tokenize(trg, N=1):\n",
    "    split_list = trg.split()\n",
    "    t = 0\n",
    "    key = []\n",
    "    while t < len(split_list):\n",
    "        tmp = []\n",
    "        tmp += split_list[t:t+N]\n",
    "        print(tmp)\n",
    "        key.append(tmp)\n",
    "        t+= 1\n",
    "    return key\n",
    "\n",
    "a = 'dog bark me john car owker'\n",
    "tokenize(a,4)"
   ]
  },
  {
   "cell_type": "markdown",
   "metadata": {},
   "source": [
    "## 함수 과제 4"
   ]
  },
  {
   "cell_type": "code",
   "execution_count": 157,
   "metadata": {},
   "outputs": [
    {
     "name": "stdout",
     "output_type": "stream",
     "text": [
      "[0.5, 0.5] [0.16666666666666666, 0.16666666666666666]\n"
     ]
    }
   ],
   "source": [
    "def mean_and_var(*val):\n",
    "    avg_x =0; b_x=0\n",
    "    avg_y =0; b_y=0\n",
    "    #평균\n",
    "    for each in val:\n",
    "        avg_x += each[0]\n",
    "        avg_y += each[1]\n",
    "    avg_x /= len(val)\n",
    "    avg_y /= len(val)\n",
    "    #분산\n",
    "    for each in val:\n",
    "        b_x += (each[0]-avg_x)**2\n",
    "        b_y += (each[1]-avg_y)**2\n",
    "    b_x /= len(val)\n",
    "    b_y /= len(val)\n",
    "    \n",
    "    \n",
    "    return ([avg_x, avg_y], [b_x, b_y])\n",
    "\n",
    "v1 = (0,1)\n",
    "v2 = (0.5, 0.5)\n",
    "v3 = (1,0)\n",
    "m, var = mean_and_var(v1,v2,v3)\n",
    "print(m, var)"
   ]
  },
  {
   "cell_type": "code",
   "execution_count": null,
   "metadata": {},
   "outputs": [],
   "source": []
  }
 ],
 "metadata": {
  "kernelspec": {
   "display_name": "Python 3",
   "language": "python",
   "name": "python3"
  },
  "language_info": {
   "codemirror_mode": {
    "name": "ipython",
    "version": 3
   },
   "file_extension": ".py",
   "mimetype": "text/x-python",
   "name": "python",
   "nbconvert_exporter": "python",
   "pygments_lexer": "ipython3",
   "version": "3.8.5"
  }
 },
 "nbformat": 4,
 "nbformat_minor": 4
}
