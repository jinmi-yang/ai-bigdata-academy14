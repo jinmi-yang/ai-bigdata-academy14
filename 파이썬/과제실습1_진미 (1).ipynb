{
 "cells": [
  {
   "cell_type": "markdown",
   "metadata": {},
   "source": [
    "# 실습1"
   ]
  },
  {
   "cell_type": "code",
   "execution_count": 6,
   "metadata": {},
   "outputs": [
    {
     "name": "stdout",
     "output_type": "stream",
     "text": [
      "바꾸고자 하는 화씨온도를 입력하시오 :100\n",
      "화씨온도 : 100\n",
      "섭씨온도 : 37.777778\n"
     ]
    }
   ],
   "source": [
    "temp_f=int(input('바꾸고자 하는 화씨온도를 입력하시오 :'))\n",
    "temp_c=(temp_f-32)*(5/9)\n",
    "print('화씨온도 : %d'%(temp_f))\n",
    "print('섭씨온도 : %f'%(temp_c))"
   ]
  },
  {
   "cell_type": "markdown",
   "metadata": {},
   "source": [
    "# "
   ]
  },
  {
   "cell_type": "markdown",
   "metadata": {},
   "source": [
    "# 실습2"
   ]
  },
  {
   "cell_type": "code",
   "execution_count": 14,
   "metadata": {},
   "outputs": [
    {
     "name": "stdout",
     "output_type": "stream",
     "text": [
      "투입한 돈:5000\n",
      "물건값:2700\n",
      "거스름돈:2300\n",
      "500원짜리:4개\n",
      "100원짜리:3개\n"
     ]
    }
   ],
   "source": [
    "in_coin=int(input('투입한 돈:'))\n",
    "pay=int(input('물건값:'))\n",
    "change=in_coin-pay\n",
    "five_hundred=change//500\n",
    "one_hundred=(change-five_hundred*500)/100\n",
    "print('거스름돈:%d'%(change))\n",
    "print('500원짜리:%d개'%(five_hundred))\n",
    "print('100원짜리:%d개'%(one_hundred))\n"
   ]
  },
  {
   "cell_type": "markdown",
   "metadata": {},
   "source": [
    "# "
   ]
  },
  {
   "cell_type": "markdown",
   "metadata": {},
   "source": [
    "# 실습3"
   ]
  },
  {
   "cell_type": "code",
   "execution_count": 16,
   "metadata": {},
   "outputs": [
    {
     "name": "stdout",
     "output_type": "stream",
     "text": [
      "반지름을 입력하시오:5\n",
      "원 둘레:31.415927\n",
      "원 넓이:78.539816\n"
     ]
    }
   ],
   "source": [
    "r=int(input('반지름을 입력하시오:'))\n",
    "from math import pi\n",
    "length=2*pi*r\n",
    "area=pi*(r**2)\n",
    "print('원 둘레:%f'%(length))\n",
    "print('원 넓이:%f'%(area))\n"
   ]
  },
  {
   "cell_type": "markdown",
   "metadata": {},
   "source": [
    "# "
   ]
  },
  {
   "cell_type": "markdown",
   "metadata": {},
   "source": [
    "# 실습4"
   ]
  },
  {
   "cell_type": "code",
   "execution_count": 26,
   "metadata": {},
   "outputs": [
    {
     "name": "stdout",
     "output_type": "stream",
     "text": [
      "Enter two integers:8 5\n",
      "8 + 5 = 13\n",
      "8 - 5 = 3\n",
      "8 * 5 = 40\n",
      "8 / 5 = 1.6\n",
      "8 % 5 = 3\n"
     ]
    }
   ],
   "source": [
    "x,y=list(input('Enter two integers:').split())\n",
    "x=int(x)\n",
    "y=int(y)\n",
    "print(x,'+',y,'=',x+y)\n",
    "print(x,'-',y,'=',x-y)\n",
    "print(x,'*',y,'=',x*y)\n",
    "print(x,'/',y,'=',x/y)\n",
    "print(x,'%',y,'=',x%y)\n"
   ]
  },
  {
   "cell_type": "markdown",
   "metadata": {},
   "source": [
    "# "
   ]
  },
  {
   "cell_type": "markdown",
   "metadata": {},
   "source": [
    "# 실습5"
   ]
  },
  {
   "cell_type": "code",
   "execution_count": 33,
   "metadata": {
    "scrolled": true
   },
   "outputs": [
    {
     "name": "stdout",
     "output_type": "stream",
     "text": [
      "Enter two integers:70 91\n",
      "The sum of 70 and 91 is 161\n",
      "The average of numbers is 80.5\n"
     ]
    }
   ],
   "source": [
    "x,y=list(input('Enter two integers:').split())\n",
    "x=int(x)\n",
    "y=int(y)\n",
    "print('The sum of %d and %d is %d' %(x,y,x+y))\n",
    "print('The average of numbers is %.1f' %((x+y)/2))\n"
   ]
  },
  {
   "cell_type": "markdown",
   "metadata": {},
   "source": [
    "# "
   ]
  },
  {
   "cell_type": "markdown",
   "metadata": {},
   "source": [
    "# 실습6\n",
    "#### 과제란 결과값에 오류가 있는 것 같습니다! 2021/04/15 대입이라고 생각해서 2031/04/15로 나왔습니당 :)!"
   ]
  },
  {
   "cell_type": "code",
   "execution_count": 1,
   "metadata": {},
   "outputs": [
    {
     "name": "stdout",
     "output_type": "stream",
     "text": [
      "날짜(연/월/일)입력 :2021/04/15\n",
      "입력한 날짜의 10년 후는 2031년 4월 15일\n"
     ]
    }
   ],
   "source": [
    "today=list(input('날짜(연/월/일)입력 :').split('/'))\n",
    "year, month, day = map(int, today)\n",
    "print('입력한 날짜의 10년 후는 %s년 %s월 %s일' %(year+10,month,day))"
   ]
  }
 ],
 "metadata": {
  "kernelspec": {
   "display_name": "Python 3",
   "language": "python",
   "name": "python3"
  },
  "language_info": {
   "codemirror_mode": {
    "name": "ipython",
    "version": 3
   },
   "file_extension": ".py",
   "mimetype": "text/x-python",
   "name": "python",
   "nbconvert_exporter": "python",
   "pygments_lexer": "ipython3",
   "version": "3.8.5"
  }
 },
 "nbformat": 4,
 "nbformat_minor": 4
}
