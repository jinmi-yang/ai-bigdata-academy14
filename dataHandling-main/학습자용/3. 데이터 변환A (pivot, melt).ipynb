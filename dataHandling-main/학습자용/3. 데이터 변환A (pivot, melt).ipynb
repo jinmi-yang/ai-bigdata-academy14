{
 "cells": [
  {
   "cell_type": "code",
   "execution_count": null,
   "metadata": {},
   "outputs": [],
   "source": [
    "# 1. 연습 데이터 생성 "
   ]
  },
  {
   "cell_type": "code",
   "execution_count": null,
   "metadata": {},
   "outputs": [],
   "source": [
    "import pandas as pd\n",
    "\n",
    "df = pd.DataFrame({\n",
    "    \"index\": [1,1,1,2,2,2],\n",
    "    \"column\": [\"col_1\", \"col_2\", \"col_3\", \"col_1\", \"col_2\", \"col_3\"],\n",
    "    \"value_1\": [1, 2, 3, 4, 5, 6],\n",
    "    \"value_2\": [\"x\", \"y\", \"z\", \"q\", \"w\", \"t\"]})\n",
    "df\n",
    "\n",
    "# 이해를 돕기 위한 대체 df\n",
    "# df = pd.DataFrame({\n",
    "#     \"index\": [\"남\", \"남\", \"남\", \"여\", \"여\", \"여\"],\n",
    "#     \"column\": [\"10대\", \"20대\", \"30대\", \"10대\", \"20대\", \"30대\"],\n",
    "#     \"value_1\": [\"170Cm\", \"173Cm\", \"172Cm\", \"160Cm\", \"163Cm\", \"162Cm\"],\n",
    "#     \"value_2\": [\"68Kg\", \"70Kg\", \"80Kg\", \"55Kg\", \"53Kg\", \"55Kg\"]})\n",
    "# df"
   ]
  },
  {
   "cell_type": "markdown",
   "metadata": {},
   "source": [
    "# 2. pivot을 이용한 변환 "
   ]
  },
  {
   "cell_type": "markdown",
   "metadata": {},
   "source": [
    "### pivot: index, column, values를 지정하여 pivot"
   ]
  },
  {
   "cell_type": "code",
   "execution_count": null,
   "metadata": {
    "scrolled": true
   },
   "outputs": [],
   "source": []
  },
  {
   "cell_type": "markdown",
   "metadata": {},
   "source": [
    "### 동일한 기능 다른 표현"
   ]
  },
  {
   "cell_type": "code",
   "execution_count": null,
   "metadata": {},
   "outputs": [],
   "source": []
  },
  {
   "cell_type": "markdown",
   "metadata": {},
   "source": [
    "### 복수의 pivot column 지정"
   ]
  },
  {
   "cell_type": "code",
   "execution_count": null,
   "metadata": {},
   "outputs": [],
   "source": []
  },
  {
   "cell_type": "markdown",
   "metadata": {},
   "source": [
    "### pivot column 미지정"
   ]
  },
  {
   "cell_type": "code",
   "execution_count": null,
   "metadata": {},
   "outputs": [],
   "source": []
  },
  {
   "cell_type": "markdown",
   "metadata": {},
   "source": [
    "### index 미지정 시 변환되는 데이터 구조 주의 "
   ]
  },
  {
   "cell_type": "code",
   "execution_count": null,
   "metadata": {
    "scrolled": true
   },
   "outputs": [],
   "source": []
  },
  {
   "cell_type": "markdown",
   "metadata": {},
   "source": [
    "# 3. melt를 이용한 변환"
   ]
  },
  {
   "cell_type": "markdown",
   "metadata": {},
   "source": [
    "### melt: id_vars를 제외한 나머지 컬럼을 풀어서 쌓음"
   ]
  },
  {
   "cell_type": "code",
   "execution_count": null,
   "metadata": {
    "scrolled": true
   },
   "outputs": [],
   "source": []
  },
  {
   "cell_type": "markdown",
   "metadata": {},
   "source": [
    "### id 및 value 컬럼 지정"
   ]
  },
  {
   "cell_type": "code",
   "execution_count": null,
   "metadata": {},
   "outputs": [],
   "source": []
  }
 ],
 "metadata": {
  "kernelspec": {
   "display_name": "Python 3",
   "language": "python",
   "name": "python3"
  },
  "language_info": {
   "codemirror_mode": {
    "name": "ipython",
    "version": 3
   },
   "file_extension": ".py",
   "mimetype": "text/x-python",
   "name": "python",
   "nbconvert_exporter": "python",
   "pygments_lexer": "ipython3",
   "version": "3.7.9"
  },
  "toc": {
   "base_numbering": 1,
   "nav_menu": {},
   "number_sections": true,
   "sideBar": true,
   "skip_h1_title": false,
   "title_cell": "Table of Contents",
   "title_sidebar": "Contents",
   "toc_cell": false,
   "toc_position": {},
   "toc_section_display": true,
   "toc_window_display": false
  }
 },
 "nbformat": 4,
 "nbformat_minor": 4
}
