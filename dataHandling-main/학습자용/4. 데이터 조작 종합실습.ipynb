{
 "cells": [
  {
   "cell_type": "markdown",
   "metadata": {},
   "source": [
    "# 실습목표\n",
    "\n",
    "### 1) 서울시 구별 인구수와 CCTV 설치 비율에 대한 분석을 위해 공공데이터를 확인하고 적절한 방법으로 처리하시오. \n",
    "### 2) 최근 3년간 CCTV증가율과 한국인, 외국인, 고령자의 비율에 따른 데이터 변화를 파악하시오."
   ]
  },
  {
   "cell_type": "markdown",
   "metadata": {},
   "source": [
    "# 0. 데이터 준비"
   ]
  },
  {
   "cell_type": "markdown",
   "metadata": {},
   "source": [
    "### 서울시 공공데이터 다운 받기\n",
    "\n",
    "#### 1. 서울시 자치구 년도별 CCTV 설치 현황 다운\n",
    "\n",
    "* https://data.seoul.go.kr/dataList/datasetList.do \n",
    "\n",
    "* 서울 열린데이터 광장 → 서울시 자치구 년도별 CCTV 설치현황 검색 → 데이터 다운 (PC 다운시 파일명은 “서울시cctv”로 저장)\n",
    "\n",
    "#### 2. 서울시 주민등록인구(구별) 통계 자료 다운\n",
    "\n",
    "* http://data.seoul.go.kr/dataList/419/S/2/datasetView.do\n",
    "\n",
    "* 서울 열린데이터 광장 → 서울시 주민등록인구(구별) 통계 → 데이터 다운(TXT) (PC 다운시 파일명은 “서울인구통계”로 저장)"
   ]
  },
  {
   "cell_type": "markdown",
   "metadata": {},
   "source": [
    "# 1. 데이터 불러오고 구조파악하기"
   ]
  },
  {
   "cell_type": "markdown",
   "metadata": {},
   "source": [
    "### [서울인구통계] 탭으로 분리된(tsv) .txt 텍스트파일 불러오기"
   ]
  },
  {
   "cell_type": "code",
   "execution_count": null,
   "metadata": {},
   "outputs": [],
   "source": [
    "import pandas as pd\n",
    "import numpy as np\n",
    "\n",
    "# data = pd.read_csv(\"파일경로\", sep = \"\\t\", , engine=\"python\", encoding = \"인코딩방식\")\n",
    "pop_seoul = pd.read_csv(\"서울인구통계.txt\",sep=\"\\t\", engine=\"python\", thousands = \",\", encoding = \"utf-8\")\n",
    "pop_seoul.head()"
   ]
  },
  {
   "cell_type": "markdown",
   "metadata": {},
   "source": [
    "### [서울인구통계] 자치구별 인구합계, 한국인 합계, 외국인 합계, 고령자 데이터만을 추출\n",
    "#### index 0,1행은 중복으로 필요 없는 행으로 삭제"
   ]
  },
  {
   "cell_type": "code",
   "execution_count": null,
   "metadata": {},
   "outputs": [],
   "source": []
  },
  {
   "cell_type": "markdown",
   "metadata": {},
   "source": [
    "### [서울인구통계] 컬럼명을 구분할 수 있도록 리네임"
   ]
  },
  {
   "cell_type": "code",
   "execution_count": null,
   "metadata": {},
   "outputs": [],
   "source": []
  },
  {
   "cell_type": "markdown",
   "metadata": {},
   "source": [
    "### [서울시 CCTV] 엑셀파일을 열고 5번째까지 자료를 읽기"
   ]
  },
  {
   "cell_type": "code",
   "execution_count": null,
   "metadata": {},
   "outputs": [],
   "source": []
  },
  {
   "cell_type": "markdown",
   "metadata": {},
   "source": [
    "### [서울시 CCTV] 컬럼의 데이터를 확인"
   ]
  },
  {
   "cell_type": "code",
   "execution_count": null,
   "metadata": {},
   "outputs": [],
   "source": []
  },
  {
   "cell_type": "markdown",
   "metadata": {},
   "source": [
    "### [서울시 CCTV] 인구통계 자료와 통일을 하기 위해 기관명을 구별로 인덱스 이름 변경"
   ]
  },
  {
   "cell_type": "code",
   "execution_count": null,
   "metadata": {},
   "outputs": [],
   "source": []
  },
  {
   "cell_type": "markdown",
   "metadata": {},
   "source": [
    "# 2. cctv 데이터 파악"
   ]
  },
  {
   "cell_type": "markdown",
   "metadata": {},
   "source": [
    "### sort_values : 값을 기준으로 정렬, by=기준 열"
   ]
  },
  {
   "cell_type": "code",
   "execution_count": null,
   "metadata": {},
   "outputs": [],
   "source": []
  },
  {
   "cell_type": "code",
   "execution_count": null,
   "metadata": {},
   "outputs": [],
   "source": []
  },
  {
   "cell_type": "markdown",
   "metadata": {},
   "source": [
    "### NaN 값 확인"
   ]
  },
  {
   "cell_type": "code",
   "execution_count": null,
   "metadata": {},
   "outputs": [],
   "source": []
  },
  {
   "cell_type": "markdown",
   "metadata": {},
   "source": [
    "### 최근 3년간 cctv 증가율 비교\n",
    "#### 증가율 = 2016~2018 cctv 수/2016년 이전 cctv 수"
   ]
  },
  {
   "cell_type": "code",
   "execution_count": null,
   "metadata": {},
   "outputs": [],
   "source": []
  },
  {
   "cell_type": "markdown",
   "metadata": {},
   "source": [
    "# 3. 서울시 인구 데이터 파악"
   ]
  },
  {
   "cell_type": "markdown",
   "metadata": {},
   "source": [
    "### 인구 데이터 확인"
   ]
  },
  {
   "cell_type": "code",
   "execution_count": null,
   "metadata": {},
   "outputs": [],
   "source": []
  },
  {
   "cell_type": "markdown",
   "metadata": {},
   "source": [
    "### index 2의 행 삭제를 위해 [2] 입력 "
   ]
  },
  {
   "cell_type": "code",
   "execution_count": null,
   "metadata": {},
   "outputs": [],
   "source": []
  },
  {
   "cell_type": "markdown",
   "metadata": {},
   "source": [
    "### 데이터 타입 확인. object로 연산이 불가 하기 때문에 int, float형으로 변경 필요"
   ]
  },
  {
   "cell_type": "code",
   "execution_count": null,
   "metadata": {},
   "outputs": [],
   "source": []
  },
  {
   "cell_type": "markdown",
   "metadata": {},
   "source": [
    "### 구별 '외국인비율'과 '고령자비율'을 계산"
   ]
  },
  {
   "cell_type": "code",
   "execution_count": null,
   "metadata": {},
   "outputs": [],
   "source": []
  },
  {
   "cell_type": "markdown",
   "metadata": {},
   "source": [
    "### 전체 '외국인비율', '외국인'으로 정렬"
   ]
  },
  {
   "cell_type": "code",
   "execution_count": null,
   "metadata": {},
   "outputs": [],
   "source": []
  },
  {
   "cell_type": "code",
   "execution_count": null,
   "metadata": {},
   "outputs": [],
   "source": []
  },
  {
   "cell_type": "markdown",
   "metadata": {},
   "source": [
    "# 4. CCTV 데이터와 인구 데이터 합치고 분석"
   ]
  },
  {
   "cell_type": "markdown",
   "metadata": {},
   "source": [
    "### cctv_seoul의 '구별' 열의 내용이 글자사이 공백으로 인해 병합이 되지 않기 때문에 rename 실시"
   ]
  },
  {
   "cell_type": "code",
   "execution_count": null,
   "metadata": {},
   "outputs": [],
   "source": []
  },
  {
   "cell_type": "markdown",
   "metadata": {},
   "source": [
    "### merge를 사용하여 병합"
   ]
  },
  {
   "cell_type": "code",
   "execution_count": null,
   "metadata": {},
   "outputs": [],
   "source": []
  },
  {
   "cell_type": "markdown",
   "metadata": {},
   "source": [
    "### 의미없는 컬럼을 del 명령어로 제거\n",
    "### 일반적으로 행을 삭제할때는 drop, 열을 삭제할때는 del을 사용\n",
    "### 2011~18년까지의 cctv수는 의미가 없으므로 삭제"
   ]
  },
  {
   "cell_type": "code",
   "execution_count": null,
   "metadata": {},
   "outputs": [],
   "source": []
  },
  {
   "cell_type": "code",
   "execution_count": null,
   "metadata": {},
   "outputs": [],
   "source": []
  }
 ],
 "metadata": {
  "kernelspec": {
   "display_name": "Python 3",
   "language": "python",
   "name": "python3"
  },
  "language_info": {
   "codemirror_mode": {
    "name": "ipython",
    "version": 3
   },
   "file_extension": ".py",
   "mimetype": "text/x-python",
   "name": "python",
   "nbconvert_exporter": "python",
   "pygments_lexer": "ipython3",
   "version": "3.7.9"
  },
  "toc": {
   "base_numbering": 1,
   "nav_menu": {},
   "number_sections": true,
   "sideBar": true,
   "skip_h1_title": false,
   "title_cell": "Table of Contents",
   "title_sidebar": "Contents",
   "toc_cell": false,
   "toc_position": {},
   "toc_section_display": true,
   "toc_window_display": false
  }
 },
 "nbformat": 4,
 "nbformat_minor": 4
}
