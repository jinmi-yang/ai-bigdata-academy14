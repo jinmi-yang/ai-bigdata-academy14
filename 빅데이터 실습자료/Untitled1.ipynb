{
 "cells": [
  {
   "cell_type": "markdown",
   "metadata": {},
   "source": [
    "# 실습3"
   ]
  },
  {
   "cell_type": "markdown",
   "metadata": {},
   "source": [
    " "
   ]
  },
  {
   "cell_type": "code",
   "execution_count": 8,
   "metadata": {},
   "outputs": [
    {
     "name": "stdout",
     "output_type": "stream",
     "text": [
      "o\n",
      "o\n"
     ]
    }
   ],
   "source": [
    "word = 'Hello'\n",
    "_len = len(word)\n",
    "print(word[-1])\n",
    "print(word[_len-1])"
   ]
  },
  {
   "cell_type": "markdown",
   "metadata": {},
   "source": [
    "# 실습4"
   ]
  },
  {
   "cell_type": "markdown",
   "metadata": {},
   "source": [
    " "
   ]
  },
  {
   "cell_type": "code",
   "execution_count": 32,
   "metadata": {},
   "outputs": [
    {
     "name": "stdout",
     "output_type": "stream",
     "text": [
      "날짜(연/월/일)입력 :2020/06/22\n",
      "입력한 날짜의 10년 후는 2030년 6월 22일\n"
     ]
    }
   ],
   "source": [
    "today=list(input('날짜(연/월/일)입력 :').split('/'))\n",
    "year, month, day = map(int, today)\n",
    "print('입력한 날짜의 10년 후는 %s년 %s월 %s일' %(year+10,month,day))"
   ]
  },
  {
   "cell_type": "markdown",
   "metadata": {},
   "source": [
    "# 조건문 - 실습1"
   ]
  },
  {
   "cell_type": "markdown",
   "metadata": {},
   "source": [
    " "
   ]
  },
  {
   "cell_type": "code",
   "execution_count": 45,
   "metadata": {},
   "outputs": [
    {
     "name": "stdout",
     "output_type": "stream",
     "text": [
      "영어 점수 입력:35\n",
      "수학 점수 입력:95\n",
      "불합격: 영어 점수 부족\n"
     ]
    }
   ],
   "source": [
    "english_score=int(input('영어 점수 입력:'))\n",
    "math_score=int(input('수학 점수 입력:'))\n",
    "if math_score + english_score < 110 :\n",
    "    print ('불합격: 총합 점수 부족')\n",
    "else :\n",
    "    if english_score < 40:\n",
    "        print ('불합격: 영어 점수 부족')\n",
    "    elif math_score < 40 :\n",
    "        print ('불합격: 수학 점수 부족')\n",
    "    elif math_score + english_score >= 110 :\n",
    "        print ('합격')\n",
    "    else :\n",
    "        print ('입력이 잘못 되었습니다.')\n"
   ]
  },
  {
   "cell_type": "markdown",
   "metadata": {},
   "source": [
    "# while문"
   ]
  },
  {
   "cell_type": "markdown",
   "metadata": {},
   "source": [
    " "
   ]
  },
  {
   "cell_type": "code",
   "execution_count": 47,
   "metadata": {},
   "outputs": [
    {
     "name": "stdout",
     "output_type": "stream",
     "text": [
      "55\n"
     ]
    }
   ],
   "source": [
    "num = 1\n",
    "sum_ = 0\n",
    "while num <=10:\n",
    "    sum_=sum_+num\n",
    "    num = num +1\n",
    "print (sum_)"
   ]
  },
  {
   "cell_type": "markdown",
   "metadata": {},
   "source": [
    "# 실습3"
   ]
  },
  {
   "cell_type": "markdown",
   "metadata": {},
   "source": [
    " "
   ]
  },
  {
   "cell_type": "code",
   "execution_count": 50,
   "metadata": {},
   "outputs": [
    {
     "name": "stdout",
     "output_type": "stream",
     "text": [
      "1/2/3/4/5/"
     ]
    }
   ],
   "source": []
  },
  {
   "cell_type": "markdown",
   "metadata": {},
   "source": [
    "# 실습3"
   ]
  },
  {
   "cell_type": "markdown",
   "metadata": {},
   "source": [
    " "
   ]
  }
 ],
 "metadata": {
  "kernelspec": {
   "display_name": "Python 3",
   "language": "python",
   "name": "python3"
  },
  "language_info": {
   "codemirror_mode": {
    "name": "ipython",
    "version": 3
   },
   "file_extension": ".py",
   "mimetype": "text/x-python",
   "name": "python",
   "nbconvert_exporter": "python",
   "pygments_lexer": "ipython3",
   "version": "3.8.5"
  }
 },
 "nbformat": 4,
 "nbformat_minor": 4
}
