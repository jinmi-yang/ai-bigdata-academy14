{
 "cells": [
  {
   "cell_type": "markdown",
   "metadata": {},
   "source": [
    "# 1.1 Keras tutorial\n",
    "이번 실습에서는 keras를 이용하여 간단한 모델을 생성하고, 학습하여 성능을 평가한다."
   ]
  },
  {
   "cell_type": "code",
   "execution_count": 1,
   "metadata": {},
   "outputs": [],
   "source": [
    "%matplotlib inline\n",
    "from tensorflow import keras\n",
    "#import keras\n",
    "import numpy as np\n",
    "import matplotlib.pyplot as plt"
   ]
  },
  {
   "cell_type": "markdown",
   "metadata": {},
   "source": [
    "## (1)데이터셋 준비\n",
    "Input(x)와 Output(y) 간의 관계(y=x*3)를 학습하기 위한 데이터셋 준비"
   ]
  },
  {
   "cell_type": "code",
   "execution_count": 2,
   "metadata": {},
   "outputs": [],
   "source": [
    "x = np.arange(20) # 0, 1, 2, 3...., 19\n",
    "y = x * 3\n",
    "\n",
    "\n",
    "x_test =np.arange(50,70)\n",
    "y_test = x_test*3\n",
    "n_in =1\n",
    "n_out =1"
   ]
  },
  {
   "cell_type": "code",
   "execution_count": 3,
   "metadata": {},
   "outputs": [
    {
     "data": {
      "text/plain": [
       "[<matplotlib.lines.Line2D at 0x7fc62e3b6bb0>]"
      ]
     },
     "execution_count": 3,
     "metadata": {},
     "output_type": "execute_result"
    },
    {
     "data": {
      "image/png": "[encoded data removed]",
      "text/plain": [
       "<Figure size 432x288 with 1 Axes>"
      ]
     },
     "metadata": {
      "needs_background": "light"
     },
     "output_type": "display_data"
    }
   ],
   "source": [
    "plt.plot(x,y)"
   ]
  },
  {
   "cell_type": "markdown",
   "metadata": {},
   "source": [
    "## (2) Keras 모델링\n",
    "keras.layers : 모델을 구성하기 위한 layer들이 구현되어 있는 모듈\n",
    "\n",
    "keras.models : layer들을 묶어 모델을 정의하고 학습, 평가, 예측 등의 기능을 구현한 모듈"
   ]
  },
  {
   "cell_type": "code",
   "execution_count": 4,
   "metadata": {},
   "outputs": [],
   "source": [
    "from tensorflow.keras import models, layers"
   ]
  },
  {
   "cell_type": "markdown",
   "metadata": {},
   "source": [
    "Keras에서는 크게 Functional, Sequential 방식으로 모델을 구현\n",
    "\n",
    "Function 방식은 모델을 수식처럼 구현\n",
    "\n",
    "Sequential 방식은 모델에 필요한 layer들을 순차적으로 더해가는 방식으로 구현"
   ]
  },
  {
   "cell_type": "markdown",
   "metadata": {},
   "source": [
    "<사용되는 Layer>\n",
    "\n",
    "Input : 모델에 입력되는 데이터의 batch size를 제외한 shape을 결정\n",
    "\n",
    "Dense : Fully Connected Layer\n",
    "\n",
    "https://keras.io/layers/core/#dense"
   ]
  },
  {
   "cell_type": "markdown",
   "metadata": {},
   "source": [
    "### Sequential Modeling"
   ]
  },
  {
   "cell_type": "code",
   "execution_count": 13,
   "metadata": {},
   "outputs": [],
   "source": [
    "def modeling_sequential(n_in, n_out):\n",
    "    model = models.Sequential()\n",
    "    model.add(layers.Dense(units =n_out, input_shape=(n_in,)))\n",
    "    return model"
   ]
  },
  {
   "cell_type": "code",
   "execution_count": 14,
   "metadata": {},
   "outputs": [],
   "source": [
    "class modeling_sequential_class(models.Sequential):\n",
    "    def __init__(self, n_in, n_out):\n",
    "        \n",
    "        #멤버 변수로 모델에 사용할 변수 선언\n",
    "        self.n_in = n_in\n",
    "        self.n_out = n_out\n",
    "        \n",
    "        #상속받은 Sequential 클래스 초기화 후 레이어 추가\n",
    "        super().__init__()\n",
    "        self.add(layers.Dense(units =n_out, input_shape=(n_in,)))"
   ]
  },
  {
   "cell_type": "markdown",
   "metadata": {},
   "source": [
    "### Functional Modeling"
   ]
  },
  {
   "cell_type": "code",
   "execution_count": 15,
   "metadata": {},
   "outputs": [],
   "source": [
    "def modeling_functional(n_in, n_out):\n",
    "    x = layers.Input(shape=(n_in,))\n",
    "    y = layers.Dense(n_out)(x)\n",
    "    model = models.Model(inputs = x, outputs = y)\n",
    "    return model"
   ]
  },
  {
   "cell_type": "code",
   "execution_count": 16,
   "metadata": {},
   "outputs": [],
   "source": [
    "class modeling_functional_class(models.Model):\n",
    "    def __init__(self, n_in, n_out):\n",
    "        \n",
    "        #멤버 변수로 모델에 사용할 변수 및 레이어 선언\n",
    "        self.n_in = n_in\n",
    "        self.n_out = n_out\n",
    "        input = layers.Input(shape=(n_in,))\n",
    "        output = layers.Dense(n_out)\n",
    "        \n",
    "        # layer 연결\n",
    "        x = input\n",
    "        y = output(x)\n",
    "\n",
    "        #상속받은 Model 클래스 초기화\n",
    "        super().__init__(x, y)"
   ]
  },
  {
   "cell_type": "markdown",
   "metadata": {},
   "source": [
    "### 모델 확인하기\n",
    "생성된 모델은 내부함수인 summary()나, vis_utils의 model_to_dot()으로 모델 내부의 layers 구조 및 파라미터 수 등을 확인할 수 있음"
   ]
  },
  {
   "cell_type": "code",
   "execution_count": 9,
   "metadata": {},
   "outputs": [
    {
     "name": "stdout",
     "output_type": "stream",
     "text": [
      "Model: \"sequential\"\n",
      "_________________________________________________________________\n",
      "Layer (type)                 Output Shape              Param #   \n",
      "=================================================================\n",
      "dense (Dense)                (None, 1)                 2         \n",
      "=================================================================\n",
      "Total params: 2\n",
      "Trainable params: 2\n",
      "Non-trainable params: 0\n",
      "_________________________________________________________________\n"
     ]
    }
   ],
   "source": [
    "model =  modeling_sequential(n_in, n_out)\n",
    "model.summary()"
   ]
  },
  {
   "cell_type": "code",
   "execution_count": 10,
   "metadata": {},
   "outputs": [
    {
     "name": "stdout",
     "output_type": "stream",
     "text": [
      "Model: \"modeling_sequential_class\"\n",
      "_________________________________________________________________\n",
      "Layer (type)                 Output Shape              Param #   \n",
      "=================================================================\n",
      "dense_1 (Dense)              (None, 1)                 2         \n",
      "=================================================================\n",
      "Total params: 2\n",
      "Trainable params: 2\n",
      "Non-trainable params: 0\n",
      "_________________________________________________________________\n"
     ]
    }
   ],
   "source": [
    "model =  modeling_sequential_class(n_in, n_out)\n",
    "model.summary()"
   ]
  },
  {
   "cell_type": "code",
   "execution_count": 11,
   "metadata": {},
   "outputs": [
    {
     "name": "stdout",
     "output_type": "stream",
     "text": [
      "Model: \"model\"\n",
      "_________________________________________________________________\n",
      "Layer (type)                 Output Shape              Param #   \n",
      "=================================================================\n",
      "input_1 (InputLayer)         [(None, 1)]               0         \n",
      "_________________________________________________________________\n",
      "dense_2 (Dense)              (None, 1)                 2         \n",
      "=================================================================\n",
      "Total params: 2\n",
      "Trainable params: 2\n",
      "Non-trainable params: 0\n",
      "_________________________________________________________________\n"
     ]
    }
   ],
   "source": [
    "model =  modeling_functional(n_in, n_out)\n",
    "model.summary()"
   ]
  },
  {
   "cell_type": "code",
   "execution_count": 12,
   "metadata": {},
   "outputs": [
    {
     "name": "stdout",
     "output_type": "stream",
     "text": [
      "Model: \"modeling_functional_class\"\n",
      "_________________________________________________________________\n",
      "Layer (type)                 Output Shape              Param #   \n",
      "=================================================================\n",
      "input_2 (InputLayer)         [(None, 1)]               0         \n",
      "_________________________________________________________________\n",
      "dense_3 (Dense)              (None, 1)                 2         \n",
      "=================================================================\n",
      "Total params: 2\n",
      "Trainable params: 2\n",
      "Non-trainable params: 0\n",
      "_________________________________________________________________\n"
     ]
    }
   ],
   "source": [
    "model = modeling_functional_class(n_in, n_out)\n",
    "model.summary()"
   ]
  },
  {
   "cell_type": "code",
   "execution_count": 17,
   "metadata": {},
   "outputs": [
    {
     "data": {
      "image/png": "[encoded data removed]",
      "text/plain": [
       "<IPython.core.display.Image object>"
      ]
     },
     "execution_count": 17,
     "metadata": {},
     "output_type": "execute_result"
    }
   ],
   "source": [
    "from tensorflow.keras.utils import plot_model\n",
    "%matplotlib inline\n",
    "\n",
    "plot_model(model, show_shapes=True)"
   ]
  },
  {
   "cell_type": "markdown",
   "metadata": {},
   "source": [
    "## (3) 모델의 학습과정 설정\n",
    "생성한 모델 객체의 compile 함수를 사용하여 학습과정 설정\n",
    "\n",
    "모델의 학습시킬 때 사용할 loss function, optimizer, metric 등을 설정\n",
    "\n",
    "https://keras.io/models/model/"
   ]
  },
  {
   "cell_type": "code",
   "execution_count": 18,
   "metadata": {},
   "outputs": [],
   "source": [
    "model.compile(loss='mse', optimizer='sgd')"
   ]
  },
  {
   "cell_type": "markdown",
   "metadata": {},
   "source": [
    "## (4) 모델 학습시키기\n",
    "모델 객체의 fit 함수를 사용하여 모델을 학습\n",
    "\n",
    "fit 함수는 학습과정이 담겨있는 history 객체를 반환"
   ]
  },
  {
   "cell_type": "code",
   "execution_count": 19,
   "metadata": {
    "scrolled": true
   },
   "outputs": [
    {
     "name": "stdout",
     "output_type": "stream",
     "text": [
      "Epoch 1/100\n",
      "4/4 [==============================] - 1s 118ms/step - loss: 110.0408 - val_loss: 0.4080\n",
      "Epoch 2/100\n",
      "4/4 [==============================] - 0s 12ms/step - loss: 0.0679 - val_loss: 0.0602\n",
      "Epoch 3/100\n",
      "4/4 [==============================] - 0s 16ms/step - loss: 0.0128 - val_loss: 0.0788\n",
      "Epoch 4/100\n",
      "4/4 [==============================] - 0s 13ms/step - loss: 0.0150 - val_loss: 0.0077\n",
      "Epoch 5/100\n",
      "4/4 [==============================] - 0s 17ms/step - loss: 0.0189 - val_loss: 0.0877\n",
      "Epoch 6/100\n",
      "4/4 [==============================] - 0s 17ms/step - loss: 0.0122 - val_loss: 0.0198\n",
      "Epoch 7/100\n",
      "4/4 [==============================] - 0s 13ms/step - loss: 0.0116 - val_loss: 0.0698\n",
      "Epoch 8/100\n",
      "4/4 [==============================] - 0s 18ms/step - loss: 0.0164 - val_loss: 0.0685\n",
      "Epoch 9/100\n",
      "4/4 [==============================] - 0s 14ms/step - loss: 0.0127 - val_loss: 3.2292e-04\n",
      "Epoch 10/100\n",
      "4/4 [==============================] - 0s 19ms/step - loss: 0.0113 - val_loss: 0.0853\n",
      "Epoch 11/100\n",
      "4/4 [==============================] - 0s 14ms/step - loss: 0.0146 - val_loss: 0.0636\n",
      "Epoch 12/100\n",
      "4/4 [==============================] - 0s 14ms/step - loss: 0.0123 - val_loss: 0.0074\n",
      "Epoch 13/100\n",
      "4/4 [==============================] - 0s 12ms/step - loss: 0.0134 - val_loss: 0.1287\n",
      "Epoch 14/100\n",
      "4/4 [==============================] - 0s 18ms/step - loss: 0.0187 - val_loss: 0.0758\n",
      "Epoch 15/100\n",
      "4/4 [==============================] - 0s 14ms/step - loss: 0.0108 - val_loss: 0.0596\n",
      "Epoch 16/100\n",
      "4/4 [==============================] - 0s 18ms/step - loss: 0.0143 - val_loss: 0.0280\n",
      "Epoch 17/100\n",
      "4/4 [==============================] - 0s 18ms/step - loss: 0.0113 - val_loss: 7.8793e-04\n",
      "Epoch 18/100\n",
      "4/4 [==============================] - 0s 21ms/step - loss: 0.0069 - val_loss: 0.0314\n",
      "Epoch 19/100\n",
      "4/4 [==============================] - 0s 14ms/step - loss: 0.0081 - val_loss: 0.4737\n",
      "Epoch 20/100\n",
      "4/4 [==============================] - 0s 21ms/step - loss: 0.0816 - val_loss: 1.7701\n",
      "Epoch 21/100\n",
      "4/4 [==============================] - 0s 18ms/step - loss: 0.6333 - val_loss: 0.0742\n",
      "Epoch 22/100\n",
      "4/4 [==============================] - 0s 13ms/step - loss: 0.0161 - val_loss: 0.0034\n",
      "Epoch 23/100\n",
      "4/4 [==============================] - 0s 12ms/step - loss: 0.0052 - val_loss: 0.0611\n",
      "Epoch 24/100\n",
      "4/4 [==============================] - 0s 14ms/step - loss: 0.0120 - val_loss: 0.0181\n",
      "Epoch 25/100\n",
      "4/4 [==============================] - 0s 13ms/step - loss: 0.0081 - val_loss: 0.0262\n",
      "Epoch 26/100\n",
      "4/4 [==============================] - 0s 17ms/step - loss: 0.0071 - val_loss: 0.2938\n",
      "Epoch 27/100\n",
      "4/4 [==============================] - 0s 14ms/step - loss: 0.1338 - val_loss: 0.0427\n",
      "Epoch 28/100\n",
      "4/4 [==============================] - 0s 19ms/step - loss: 0.0067 - val_loss: 0.0012\n",
      "Epoch 29/100\n",
      "4/4 [==============================] - 0s 13ms/step - loss: 0.0078 - val_loss: 0.0538\n",
      "Epoch 30/100\n",
      "4/4 [==============================] - 0s 14ms/step - loss: 0.0054 - val_loss: 0.0174\n",
      "Epoch 31/100\n",
      "4/4 [==============================] - 0s 12ms/step - loss: 0.0045 - val_loss: 0.0369\n",
      "Epoch 32/100\n",
      "4/4 [==============================] - 0s 14ms/step - loss: 0.0063 - val_loss: 0.0547\n",
      "Epoch 33/100\n",
      "4/4 [==============================] - 0s 13ms/step - loss: 0.0267 - val_loss: 0.0574\n",
      "Epoch 34/100\n",
      "4/4 [==============================] - 0s 16ms/step - loss: 0.0135 - val_loss: 7.9864e-05\n",
      "Epoch 35/100\n",
      "4/4 [==============================] - 0s 17ms/step - loss: 0.0051 - val_loss: 0.0952\n",
      "Epoch 36/100\n",
      "4/4 [==============================] - 0s 18ms/step - loss: 0.0206 - val_loss: 0.0372\n",
      "Epoch 37/100\n",
      "4/4 [==============================] - 0s 12ms/step - loss: 0.0051 - val_loss: 0.0075\n",
      "Epoch 38/100\n",
      "4/4 [==============================] - 0s 12ms/step - loss: 0.0066 - val_loss: 0.0162\n",
      "Epoch 39/100\n",
      "4/4 [==============================] - 0s 14ms/step - loss: 0.0047 - val_loss: 0.0969\n",
      "Epoch 40/100\n",
      "4/4 [==============================] - 0s 16ms/step - loss: 0.0209 - val_loss: 0.0125\n",
      "Epoch 41/100\n",
      "4/4 [==============================] - 0s 13ms/step - loss: 0.0036 - val_loss: 0.1299\n",
      "Epoch 42/100\n",
      "4/4 [==============================] - 0s 19ms/step - loss: 0.0321 - val_loss: 0.1380\n",
      "Epoch 43/100\n",
      "4/4 [==============================] - 0s 14ms/step - loss: 0.0199 - val_loss: 0.0435\n",
      "Epoch 44/100\n",
      "4/4 [==============================] - 0s 12ms/step - loss: 0.0035 - val_loss: 0.0099\n",
      "Epoch 45/100\n",
      "4/4 [==============================] - 0s 17ms/step - loss: 0.0033 - val_loss: 0.0710\n",
      "Epoch 46/100\n",
      "4/4 [==============================] - 0s 17ms/step - loss: 0.0052 - val_loss: 0.0188\n",
      "Epoch 47/100\n",
      "4/4 [==============================] - 0s 11ms/step - loss: 0.0035 - val_loss: 0.0381\n",
      "Epoch 48/100\n",
      "4/4 [==============================] - 0s 13ms/step - loss: 0.0058 - val_loss: 0.0178\n",
      "Epoch 49/100\n",
      "4/4 [==============================] - 0s 14ms/step - loss: 0.0033 - val_loss: 0.0264\n",
      "Epoch 50/100\n",
      "4/4 [==============================] - 0s 17ms/step - loss: 0.0046 - val_loss: 0.0525\n",
      "Epoch 51/100\n",
      "4/4 [==============================] - 0s 15ms/step - loss: 0.0127 - val_loss: 5.9053e-05\n",
      "Epoch 52/100\n",
      "4/4 [==============================] - 0s 18ms/step - loss: 0.0026 - val_loss: 0.0069\n",
      "Epoch 53/100\n",
      "4/4 [==============================] - 0s 12ms/step - loss: 0.0023 - val_loss: 0.0235\n",
      "Epoch 54/100\n",
      "4/4 [==============================] - 0s 17ms/step - loss: 0.0026 - val_loss: 0.0166\n",
      "Epoch 55/100\n",
      "4/4 [==============================] - 0s 12ms/step - loss: 0.0047 - val_loss: 0.0091\n",
      "Epoch 56/100\n",
      "4/4 [==============================] - 0s 18ms/step - loss: 0.0019 - val_loss: 0.0011\n",
      "Epoch 57/100\n",
      "4/4 [==============================] - 0s 14ms/step - loss: 0.0027 - val_loss: 0.0077\n",
      "Epoch 58/100\n",
      "4/4 [==============================] - 0s 13ms/step - loss: 0.0013 - val_loss: 0.0047\n",
      "Epoch 59/100\n",
      "4/4 [==============================] - 0s 13ms/step - loss: 0.0019 - val_loss: 0.0062\n",
      "Epoch 60/100\n",
      "4/4 [==============================] - 0s 17ms/step - loss: 0.0018 - val_loss: 0.0020\n",
      "Epoch 61/100\n",
      "4/4 [==============================] - 0s 14ms/step - loss: 0.0034 - val_loss: 4.2994e-05\n",
      "Epoch 62/100\n",
      "4/4 [==============================] - 0s 16ms/step - loss: 0.0018 - val_loss: 0.0054\n",
      "Epoch 63/100\n",
      "4/4 [==============================] - 0s 12ms/step - loss: 0.0014 - val_loss: 0.0117\n",
      "Epoch 64/100\n",
      "4/4 [==============================] - 0s 17ms/step - loss: 0.0014 - val_loss: 0.0055\n",
      "Epoch 65/100\n",
      "4/4 [==============================] - 0s 15ms/step - loss: 0.0015 - val_loss: 0.0030\n",
      "Epoch 66/100\n",
      "4/4 [==============================] - 0s 13ms/step - loss: 9.9630e-04 - val_loss: 0.0044\n",
      "Epoch 67/100\n",
      "4/4 [==============================] - 0s 13ms/step - loss: 0.0012 - val_loss: 0.0095\n",
      "Epoch 68/100\n",
      "4/4 [==============================] - 0s 13ms/step - loss: 0.0041 - val_loss: 0.0187\n",
      "Epoch 69/100\n",
      "4/4 [==============================] - 0s 12ms/step - loss: 0.0019 - val_loss: 0.0068\n",
      "Epoch 70/100\n",
      "4/4 [==============================] - 0s 12ms/step - loss: 8.7488e-04 - val_loss: 0.0014\n",
      "Epoch 71/100\n",
      "4/4 [==============================] - 0s 17ms/step - loss: 9.7216e-04 - val_loss: 0.0064\n",
      "Epoch 72/100\n",
      "4/4 [==============================] - 0s 17ms/step - loss: 0.0025 - val_loss: 1.1939e-04\n",
      "Epoch 73/100\n",
      "4/4 [==============================] - 0s 16ms/step - loss: 0.0011 - val_loss: 4.3620e-04\n",
      "Epoch 74/100\n",
      "4/4 [==============================] - 0s 13ms/step - loss: 7.1318e-04 - val_loss: 0.0048\n",
      "Epoch 75/100\n",
      "4/4 [==============================] - 0s 17ms/step - loss: 7.2007e-04 - val_loss: 0.0053\n",
      "Epoch 76/100\n",
      "4/4 [==============================] - 0s 19ms/step - loss: 8.3348e-04 - val_loss: 0.0033\n",
      "Epoch 77/100\n",
      "4/4 [==============================] - 0s 15ms/step - loss: 0.0017 - val_loss: 0.0036\n",
      "Epoch 78/100\n",
      "4/4 [==============================] - 0s 19ms/step - loss: 6.8630e-04 - val_loss: 1.3976e-04\n",
      "Epoch 79/100\n",
      "4/4 [==============================] - 0s 11ms/step - loss: 6.8332e-04 - val_loss: 0.0064\n",
      "Epoch 80/100\n",
      "4/4 [==============================] - 0s 14ms/step - loss: 0.0016 - val_loss: 0.0013\n",
      "Epoch 81/100\n",
      "4/4 [==============================] - 0s 13ms/step - loss: 5.3749e-04 - val_loss: 0.0041\n",
      "Epoch 82/100\n",
      "4/4 [==============================] - 0s 12ms/step - loss: 6.7118e-04 - val_loss: 8.9636e-04\n",
      "Epoch 83/100\n"
     ]
    },
    {
     "name": "stdout",
     "output_type": "stream",
     "text": [
      "4/4 [==============================] - 0s 17ms/step - loss: 6.0048e-04 - val_loss: 0.0014\n",
      "Epoch 84/100\n",
      "4/4 [==============================] - 0s 18ms/step - loss: 4.7588e-04 - val_loss: 0.0012\n",
      "Epoch 85/100\n",
      "4/4 [==============================] - 0s 16ms/step - loss: 7.7142e-04 - val_loss: 7.8853e-04\n",
      "Epoch 86/100\n",
      "4/4 [==============================] - 0s 18ms/step - loss: 4.5377e-04 - val_loss: 0.0011\n",
      "Epoch 87/100\n",
      "4/4 [==============================] - 0s 11ms/step - loss: 4.5072e-04 - val_loss: 0.0042\n",
      "Epoch 88/100\n",
      "4/4 [==============================] - 0s 17ms/step - loss: 7.7875e-04 - val_loss: 0.0010\n",
      "Epoch 89/100\n",
      "4/4 [==============================] - 0s 18ms/step - loss: 6.3104e-04 - val_loss: 0.0158\n",
      "Epoch 90/100\n",
      "4/4 [==============================] - 0s 11ms/step - loss: 0.0054 - val_loss: 0.0029\n",
      "Epoch 91/100\n",
      "4/4 [==============================] - 0s 13ms/step - loss: 5.5939e-04 - val_loss: 0.0059\n",
      "Epoch 92/100\n",
      "4/4 [==============================] - 0s 15ms/step - loss: 8.6221e-04 - val_loss: 0.0031\n",
      "Epoch 93/100\n",
      "4/4 [==============================] - 0s 16ms/step - loss: 6.2325e-04 - val_loss: 0.0037\n",
      "Epoch 94/100\n",
      "4/4 [==============================] - 0s 18ms/step - loss: 9.5646e-04 - val_loss: 0.0017\n",
      "Epoch 95/100\n",
      "4/4 [==============================] - 0s 15ms/step - loss: 3.5385e-04 - val_loss: 0.0030\n",
      "Epoch 96/100\n",
      "4/4 [==============================] - 0s 12ms/step - loss: 6.2837e-04 - val_loss: 0.0012\n",
      "Epoch 97/100\n",
      "4/4 [==============================] - 0s 12ms/step - loss: 2.7233e-04 - val_loss: 0.0072\n",
      "Epoch 98/100\n",
      "4/4 [==============================] - 0s 16ms/step - loss: 0.0013 - val_loss: 0.0018\n",
      "Epoch 99/100\n",
      "4/4 [==============================] - 0s 18ms/step - loss: 3.3254e-04 - val_loss: 5.5435e-04\n",
      "Epoch 100/100\n",
      "4/4 [==============================] - 0s 19ms/step - loss: 2.4139e-04 - val_loss: 0.0016\n"
     ]
    }
   ],
   "source": [
    "history = model.fit(x, y, batch_size=5, epochs=100, validation_split=0.2)"
   ]
  },
  {
   "cell_type": "markdown",
   "metadata": {},
   "source": [
    "## (5) 모델 평가하기\n",
    "모델 객체의 evaluate 함수로 test 데이터에 대한 모델의 성능을 평가"
   ]
  },
  {
   "cell_type": "code",
   "execution_count": 20,
   "metadata": {},
   "outputs": [
    {
     "name": "stdout",
     "output_type": "stream",
     "text": [
      "1/1 [==============================] - 0s 61ms/step - loss: 0.0046\n",
      "loss : 0.0046\n"
     ]
    }
   ],
   "source": [
    "loss= model.evaluate(x_test, y_test, batch_size=20)\n",
    "print('loss : %.4f'%(loss))"
   ]
  },
  {
   "cell_type": "markdown",
   "metadata": {},
   "source": [
    "## (6) 모델 사용하기\n",
    "모델 객체의 predict 함수로 input 데이터에 대한 모델의 예측결과를 반환"
   ]
  },
  {
   "cell_type": "code",
   "execution_count": 21,
   "metadata": {},
   "outputs": [
    {
     "name": "stdout",
     "output_type": "stream",
     "text": [
      "true y : 300.00, prediction y : 300.09\n",
      "true y : 303.00, prediction y : 303.09\n",
      "true y : 306.00, prediction y : 306.09\n",
      "true y : 309.00, prediction y : 309.10\n",
      "true y : 312.00, prediction y : 312.10\n",
      "true y : 315.00, prediction y : 315.10\n",
      "true y : 318.00, prediction y : 318.10\n",
      "true y : 321.00, prediction y : 321.10\n",
      "true y : 324.00, prediction y : 324.10\n",
      "true y : 327.00, prediction y : 327.10\n",
      "true y : 330.00, prediction y : 330.10\n",
      "true y : 333.00, prediction y : 333.10\n",
      "true y : 336.00, prediction y : 336.10\n",
      "true y : 339.00, prediction y : 339.10\n",
      "true y : 342.00, prediction y : 342.10\n",
      "true y : 345.00, prediction y : 345.10\n",
      "true y : 348.00, prediction y : 348.10\n",
      "true y : 351.00, prediction y : 351.10\n",
      "true y : 354.00, prediction y : 354.11\n",
      "true y : 357.00, prediction y : 357.11\n"
     ]
    }
   ],
   "source": [
    "new_x = np.arange(100,120)\n",
    "true_y = new_x*3\n",
    "\n",
    "pred_y = model.predict(new_x, batch_size=20)\n",
    "pred_y = np.reshape(pred_y,(-1,))\n",
    "for y in zip(true_y, pred_y):\n",
    "    print(\"true y : %.2f, prediction y : %.2f\"%(y[0], y[1]))"
   ]
  },
  {
   "cell_type": "markdown",
   "metadata": {},
   "source": [
    "# 1.1 MNIST Classification with Linear Classifier\n",
    "이번 실습에서는 keras로 linear 모델을 생성하고, MNIST dataset을 학습하여 성능을 평가한다."
   ]
  },
  {
   "cell_type": "code",
   "execution_count": 22,
   "metadata": {},
   "outputs": [],
   "source": [
    "import tensorflow.keras.utils as utils\n",
    "from tensorflow.keras import datasets\n",
    "from tensorflow.keras.models import Sequential, Model\n",
    "from tensorflow.keras.layers import Input, Dense, Activation\n",
    "\n",
    "import numpy as np\n",
    "import matplotlib.pyplot as plt"
   ]
  },
  {
   "cell_type": "markdown",
   "metadata": {},
   "source": [
    "## (1) 데이터셋 다운로드\n",
    "### Download the MNIST dataset\n",
    "MNIST dataset은 28x28 사이즈의 이미지들로 0~9까지의 숫자 10개의 손글씨 이미지로 이루어져있다.\n",
    "\n",
    "60,000장이 training에 사용되고 10,000장이 test에 사용된다."
   ]
  },
  {
   "cell_type": "code",
   "execution_count": 23,
   "metadata": {},
   "outputs": [
    {
     "name": "stdout",
     "output_type": "stream",
     "text": [
      "Downloading data from https://storage.googleapis.com/tensorflow/tf-keras-datasets/mnist.npz\n",
      "11493376/11490434 [==============================] - 1s 0us/step\n",
      "(60000, 28, 28) (60000,)\n"
     ]
    }
   ],
   "source": [
    "(X_train, Y_train),(X_test, Y_test) = datasets.mnist.load_data()\n",
    "print(X_train.shape, Y_train.shape)"
   ]
  },
  {
   "cell_type": "code",
   "execution_count": 24,
   "metadata": {},
   "outputs": [
    {
     "name": "stdout",
     "output_type": "stream",
     "text": [
      "label :  5\n"
     ]
    },
    {
     "data": {
      "text/plain": [
       "<matplotlib.image.AxesImage at 0x7fc638e46cd0>"
      ]
     },
     "execution_count": 24,
     "metadata": {},
     "output_type": "execute_result"
    },
    {
     "data": {
      "image/png": "[encoded data removed]",
      "text/plain": [
       "<Figure size 432x288 with 1 Axes>"
      ]
     },
     "metadata": {
      "needs_background": "light"
     },
     "output_type": "display_data"
    }
   ],
   "source": [
    "print('label : ',Y_train[0])\n",
    "plt.imshow(X_train[0], cmap='gray')"
   ]
  },
  {
   "cell_type": "markdown",
   "metadata": {},
   "source": [
    "input(X)를 flatten, normalize\n",
    "\n",
    "output(Y)를 onehot encoding"
   ]
  },
  {
   "cell_type": "code",
   "execution_count": 25,
   "metadata": {},
   "outputs": [
    {
     "name": "stdout",
     "output_type": "stream",
     "text": [
      "[[0. 0. 0. ... 0. 0. 0.]\n",
      " [1. 0. 0. ... 0. 0. 0.]\n",
      " [0. 0. 0. ... 0. 0. 0.]\n",
      " ...\n",
      " [0. 0. 0. ... 0. 0. 0.]\n",
      " [0. 0. 0. ... 0. 0. 0.]\n",
      " [0. 0. 0. ... 0. 1. 0.]]\n",
      "(60000, 784) (60000, 10)\n"
     ]
    }
   ],
   "source": [
    "X_train_flat = X_train.reshape(60000, 28*28).astype('float32')/255.0\n",
    "X_test_flat = X_test.reshape(10000, 28*28).astype('float32')/255.0\n",
    "Y_train_onehot = utils.to_categorical(Y_train)\n",
    "Y_test_onehot = utils.to_categorical(Y_test)\n",
    "print(Y_train_onehot)\n",
    "print(X_train_flat.shape, Y_train_onehot.shape)"
   ]
  },
  {
   "cell_type": "markdown",
   "metadata": {},
   "source": [
    "## (2) Keras 모델링"
   ]
  },
  {
   "cell_type": "markdown",
   "metadata": {},
   "source": [
    "<사용되는 Layer>\n",
    "\n",
    "Input : 모델에 입력되는 데이터의 batch size를 제외한 shape을 결정\n",
    "\n",
    "https://keras.io/layers/core/#input\n",
    "\n",
    "Dense : Fully Connected Layer\n",
    "\n",
    "https://keras.io/layers/core/#dense\n",
    "\n",
    "Activation : Activation Function을 정의, 문자열로 입력\n",
    "\n",
    "https://keras.io/layers/core/#activation"
   ]
  },
  {
   "cell_type": "code",
   "execution_count": 26,
   "metadata": {},
   "outputs": [],
   "source": [
    "n_in = 28*28   #784\n",
    "n_out = np.shape(Y_test_onehot)[1] # 10"
   ]
  },
  {
   "cell_type": "markdown",
   "metadata": {},
   "source": [
    "### Functional Modeling"
   ]
  },
  {
   "cell_type": "code",
   "execution_count": 27,
   "metadata": {},
   "outputs": [],
   "source": [
    "def linear_model_func(n_in, n_out):\n",
    "    x = Input(shape=(n_in,))\n",
    "    h = Dense(n_out)(x)\n",
    "    y = Activation('softmax')(h)\n",
    "    model = Model(inputs = x, outputs = y)\n",
    "    return model"
   ]
  },
  {
   "cell_type": "markdown",
   "metadata": {},
   "source": [
    "### Sequential Modeling"
   ]
  },
  {
   "cell_type": "code",
   "execution_count": 28,
   "metadata": {},
   "outputs": [],
   "source": [
    "def linear_model_seq(n_in, n_out):\n",
    "    model = Sequential()\n",
    "    model.add(Dense(units =n_out, input_shape=(n_in,), activation='softmax'))\n",
    "    return model"
   ]
  },
  {
   "cell_type": "code",
   "execution_count": 29,
   "metadata": {},
   "outputs": [
    {
     "name": "stdout",
     "output_type": "stream",
     "text": [
      "Model: \"model_1\"\n",
      "_________________________________________________________________\n",
      "Layer (type)                 Output Shape              Param #   \n",
      "=================================================================\n",
      "input_3 (InputLayer)         [(None, 784)]             0         \n",
      "_________________________________________________________________\n",
      "dense_4 (Dense)              (None, 10)                7850      \n",
      "_________________________________________________________________\n",
      "activation (Activation)      (None, 10)                0         \n",
      "=================================================================\n",
      "Total params: 7,850\n",
      "Trainable params: 7,850\n",
      "Non-trainable params: 0\n",
      "_________________________________________________________________\n"
     ]
    }
   ],
   "source": [
    "model = linear_model_func(n_in, n_out)\n",
    "model.summary()"
   ]
  },
  {
   "cell_type": "code",
   "execution_count": 30,
   "metadata": {},
   "outputs": [
    {
     "data": {
      "image/png": "[encoded data removed]",
      "text/plain": [
       "<IPython.core.display.Image object>"
      ]
     },
     "execution_count": 30,
     "metadata": {},
     "output_type": "execute_result"
    }
   ],
   "source": [
    "plot_model(model, show_shapes=True)"
   ]
  },
  {
   "cell_type": "markdown",
   "metadata": {},
   "source": [
    "## (3) 모델의 학습과정 설정\n",
    "accuracy를 측정할 수 있는 문제라면 metric에 accuracy를 설정\n",
    "\n",
    "https://keras.io/models/model/"
   ]
  },
  {
   "cell_type": "code",
   "execution_count": 31,
   "metadata": {},
   "outputs": [],
   "source": [
    "model.compile(loss='categorical_crossentropy', \n",
    "              optimizer='sgd',\n",
    "              metrics=['accuracy'])"
   ]
  },
  {
   "cell_type": "markdown",
   "metadata": {},
   "source": [
    "## (4) 모델 학습시키기"
   ]
  },
  {
   "cell_type": "code",
   "execution_count": 32,
   "metadata": {
    "scrolled": true
   },
   "outputs": [
    {
     "name": "stdout",
     "output_type": "stream",
     "text": [
      "Epoch 1/20\n",
      "375/375 [==============================] - 2s 4ms/step - loss: 1.6991 - accuracy: 0.5375 - val_loss: 0.8810 - val_accuracy: 0.8323\n",
      "Epoch 2/20\n",
      "375/375 [==============================] - 1s 4ms/step - loss: 0.8426 - accuracy: 0.8185 - val_loss: 0.6515 - val_accuracy: 0.8622\n",
      "Epoch 3/20\n",
      "375/375 [==============================] - 1s 4ms/step - loss: 0.6586 - accuracy: 0.8492 - val_loss: 0.5585 - val_accuracy: 0.8727\n",
      "Epoch 4/20\n",
      "375/375 [==============================] - 1s 3ms/step - loss: 0.5838 - accuracy: 0.8603 - val_loss: 0.5065 - val_accuracy: 0.8788\n",
      "Epoch 5/20\n",
      "375/375 [==============================] - 1s 3ms/step - loss: 0.5355 - accuracy: 0.8670 - val_loss: 0.4730 - val_accuracy: 0.8828\n",
      "Epoch 6/20\n",
      "375/375 [==============================] - 1s 4ms/step - loss: 0.5039 - accuracy: 0.8722 - val_loss: 0.4491 - val_accuracy: 0.8872\n",
      "Epoch 7/20\n",
      "375/375 [==============================] - 1s 4ms/step - loss: 0.4750 - accuracy: 0.8776 - val_loss: 0.4314 - val_accuracy: 0.8902\n",
      "Epoch 8/20\n",
      "375/375 [==============================] - 1s 4ms/step - loss: 0.4633 - accuracy: 0.8788 - val_loss: 0.4173 - val_accuracy: 0.8913\n",
      "Epoch 9/20\n",
      "375/375 [==============================] - 1s 3ms/step - loss: 0.4461 - accuracy: 0.8807 - val_loss: 0.4061 - val_accuracy: 0.8936\n",
      "Epoch 10/20\n",
      "375/375 [==============================] - 1s 4ms/step - loss: 0.4280 - accuracy: 0.8867 - val_loss: 0.3965 - val_accuracy: 0.8967\n",
      "Epoch 11/20\n",
      "375/375 [==============================] - 1s 3ms/step - loss: 0.4180 - accuracy: 0.8884 - val_loss: 0.3885 - val_accuracy: 0.8984\n",
      "Epoch 12/20\n",
      "375/375 [==============================] - 1s 4ms/step - loss: 0.4115 - accuracy: 0.8907 - val_loss: 0.3817 - val_accuracy: 0.8998\n",
      "Epoch 13/20\n",
      "375/375 [==============================] - 1s 4ms/step - loss: 0.4091 - accuracy: 0.8910 - val_loss: 0.3756 - val_accuracy: 0.9013\n",
      "Epoch 14/20\n",
      "375/375 [==============================] - 1s 3ms/step - loss: 0.3979 - accuracy: 0.8905 - val_loss: 0.3704 - val_accuracy: 0.9027\n",
      "Epoch 15/20\n",
      "375/375 [==============================] - 1s 4ms/step - loss: 0.3943 - accuracy: 0.8933 - val_loss: 0.3655 - val_accuracy: 0.9032\n",
      "Epoch 16/20\n",
      "375/375 [==============================] - 1s 4ms/step - loss: 0.3830 - accuracy: 0.8958 - val_loss: 0.3613 - val_accuracy: 0.9038\n",
      "Epoch 17/20\n",
      "375/375 [==============================] - 1s 3ms/step - loss: 0.3858 - accuracy: 0.8952 - val_loss: 0.3576 - val_accuracy: 0.9045\n",
      "Epoch 18/20\n",
      "375/375 [==============================] - 1s 4ms/step - loss: 0.3777 - accuracy: 0.8957 - val_loss: 0.3540 - val_accuracy: 0.9052\n",
      "Epoch 19/20\n",
      "375/375 [==============================] - 1s 4ms/step - loss: 0.3712 - accuracy: 0.8969 - val_loss: 0.3508 - val_accuracy: 0.9060\n",
      "Epoch 20/20\n",
      "375/375 [==============================] - 1s 4ms/step - loss: 0.3711 - accuracy: 0.8975 - val_loss: 0.3478 - val_accuracy: 0.9058\n"
     ]
    }
   ],
   "source": [
    "history = model.fit(X_train_flat, Y_train_onehot, batch_size=128, epochs=20, validation_split=0.2)"
   ]
  },
  {
   "cell_type": "markdown",
   "metadata": {},
   "source": [
    "## (5) 모델 평가하기"
   ]
  },
  {
   "cell_type": "code",
   "execution_count": null,
   "metadata": {},
   "outputs": [],
   "source": [
    "loss_and_accuracy = model.evaluate(X_test_flat, Y_test_onehot, batch_size=128)\n",
    "print('loss : %.4f, accruracy : %.4f'%(loss_and_accuracy[0],loss_and_accuracy[1]))"
   ]
  },
  {
   "cell_type": "markdown",
   "metadata": {},
   "source": [
    "## (6) 모델 사용하기"
   ]
  },
  {
   "cell_type": "code",
   "execution_count": null,
   "metadata": {},
   "outputs": [],
   "source": [
    "test_data = X_test[-1].reshape(1,28*28)\n",
    "pred_y = model.predict(test_data)\n",
    "pred_y = pred_y.argmax()\n",
    "\n",
    "print('predict label : ',Y_test[-1])\n",
    "plt.imshow(X_test[-1], cmap='gray')"
   ]
  },
  {
   "cell_type": "markdown",
   "metadata": {},
   "source": [
    "# 1.2 MNIST Classification with DNN (to do)\n",
    "이번 실습에서는 keras로 DNN 모델을 생성하고, MNIST dataset을 학습하여 성능을 평가한다."
   ]
  },
  {
   "cell_type": "markdown",
   "metadata": {},
   "source": [
    "## (2) Keras 모델링"
   ]
  },
  {
   "attachments": {
    "image.png": {
     "image/png": "[encoded data removed]"
    }
   },
   "cell_type": "markdown",
   "metadata": {},
   "source": [
    "<사용되는 Layer>\n",
    "\n",
    "Input : 모델에 입력되는 데이터의 batch size를 제외한 shape을 결정\n",
    "\n",
    "Dense : Fully Connected Layer\n",
    "\n",
    "Activation : Activation Function을 정의, 문자열로 입력\n",
    "![image.png](attachment:image.png)\n",
    "\n",
    "<맨 마지막 activation은 softmax로 하고 이외의 activation은 relu를 사용>\n",
    "\n",
    "https://keras.io/layers/core/#activation"
   ]
  },
  {
   "cell_type": "code",
   "execution_count": null,
   "metadata": {},
   "outputs": [],
   "source": [
    "def DNN_func(n_in, n_out):\n",
    "    x = Input(shape=(n_in,))\n",
    "    x = Dense(256)(x)\n",
    "    x = Activation('relu')(x)\n",
    "    x = Dense(128)(x)\n",
    "    x = Activation('relu')(x)\n",
    "    x = Dense(64)(x)\n",
    "    x = Activation('relu')(x)\n",
    "    x = Dense(32)(x)\n",
    "    x = Activation('relu')(x)\n",
    "    x = Dense(n_out)(x)\n",
    "    y = Activation('softmax')(x)\n",
    "    model = Model(inputs = x, outputs = y)\n",
    "    return model\n",
    "\n",
    "def DNN_seq(n_in, n_out):\n",
    "    model = Sequential()\n",
    "    return model"
   ]
  },
  {
   "cell_type": "code",
   "execution_count": null,
   "metadata": {},
   "outputs": [],
   "source": []
  },
  {
   "cell_type": "markdown",
   "metadata": {},
   "source": [
    "## (3) 모델의 학습과정 설정\n",
    "<optimizer를 adam으로 설정>"
   ]
  },
  {
   "cell_type": "code",
   "execution_count": null,
   "metadata": {},
   "outputs": [],
   "source": []
  },
  {
   "cell_type": "markdown",
   "metadata": {},
   "source": [
    "## (4) 모델 학습시키기\n",
    "<batch size를 256, epoch을 30, train 데이터 중 30%를 validation 데이터로 사용, verbose 모드는 2>"
   ]
  },
  {
   "cell_type": "code",
   "execution_count": null,
   "metadata": {},
   "outputs": [],
   "source": []
  },
  {
   "cell_type": "markdown",
   "metadata": {},
   "source": [
    "## (5) 모델 평가하기"
   ]
  },
  {
   "cell_type": "code",
   "execution_count": null,
   "metadata": {},
   "outputs": [],
   "source": []
  },
  {
   "cell_type": "markdown",
   "metadata": {},
   "source": [
    "## (6) 모델 사용하기"
   ]
  },
  {
   "cell_type": "code",
   "execution_count": null,
   "metadata": {},
   "outputs": [],
   "source": []
  }
 ],
 "metadata": {
  "kernelspec": {
   "display_name": "env2",
   "language": "python",
   "name": "env2"
  },
  "language_info": {
   "codemirror_mode": {
    "name": "ipython",
    "version": 3
   },
   "file_extension": ".py",
   "mimetype": "text/x-python",
   "name": "python",
   "nbconvert_exporter": "python",
   "pygments_lexer": "ipython3",
   "version": "3.8.10"
  }
 },
 "nbformat": 4,
 "nbformat_minor": 4
}
