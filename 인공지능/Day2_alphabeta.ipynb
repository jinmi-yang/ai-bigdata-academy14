{
  "nbformat": 4,
  "nbformat_minor": 0,
  "metadata": {
    "colab": {
      "name": "Day2_alphabeta.ipynb의 사본의 사본",
      "provenance": [],
      "collapsed_sections": [],
      "authorship_tag": "ABX9TyNxhPdP4C/TK2c/2Alc8JyR",
      "include_colab_link": true
    },
    "kernelspec": {
      "name": "python3",
      "display_name": "Python 3"
    },
    "language_info": {
      "name": "python"
    }
  },
  "cells": [
    {
      "cell_type": "markdown",
      "metadata": {
        "id": "view-in-github",
        "colab_type": "text"
      },
      "source": [
        "<a href=\"https://colab.research.google.com/github/P17seongbin/2021_AI_demo/blob/main/Day2_alphabeta.ipynb\" target=\"_parent\"><img src=\"https://colab.research.google.com/assets/colab-badge.svg\" alt=\"Open In Colab\"/></a>"
      ]
    },
    {
      "cell_type": "code",
      "metadata": {
        "id": "bKutOt_9QHcZ"
      },
      "source": [
        "import time\n",
        "import copy"
      ],
      "execution_count": 2,
      "outputs": []
    },
    {
      "cell_type": "code",
      "metadata": {
        "id": "fGlBPM5TZH62"
      },
      "source": [
        "def judge(state):\n",
        "  winner = \" \"\n",
        "  for i in range(3):\n",
        "    if state[i][0] == state[i][1] and state[i][1] == state[i][2] and state[i][2] != \" \":\n",
        "      winner = state[i][0]\n",
        "    elif state[0][i] == state[1][i] and state[1][i] == state[2][i] and state[2][i] != \" \":\n",
        "      winner =state[0][i]\n",
        "    if state[0][0] == state[1][1] and state[1][1] == state[2][2] and state[2][2] != \" \":\n",
        "      winner =state[0][0]\n",
        "    elif state[2][0] == state[1][1] and state[1][1] == state[0][2] and state[2][0] != \" \":\n",
        "      winner = state[1][1]\n",
        "  return winner"
      ],
      "execution_count": 3,
      "outputs": []
    },
    {
      "cell_type": "code",
      "metadata": {
        "id": "ZzZRH922Rq0k"
      },
      "source": [
        "class ttt_plate():\n",
        "  def __init__(self):\n",
        "    self.reset()\n",
        "\n",
        "  # Draw a single symbol on the board (3x3)\n",
        "  def draw(self,pos,symbol):\n",
        "    if symbol == \"X\" or symbol == \"O\":\n",
        "      self.plate[pos[0]][pos[1]] = symbol\n",
        "      self.judge()\n",
        "    else:\n",
        "      raise ValueError()\n",
        "  def judge(self):\n",
        "    winner = judge(self.plate)\n",
        "    if winner != \" \":\n",
        "      self.winner = winner\n",
        "      \n",
        "  def reset(self):\n",
        "    self.winner = \" \"\n",
        "    self.plate = [[\" \", \" \", \" \"] for _ in range(3)]"
      ],
      "execution_count": 4,
      "outputs": []
    },
    {
      "cell_type": "code",
      "metadata": {
        "id": "m7nNgpSZu5km"
      },
      "source": [
        "class ttt_large_plate():\n",
        "  def __init__(self):\n",
        "    self.reset()\n",
        "  \n",
        "  # Draw single symbol on the board (9x9)\n",
        "  def draw(self,plate_pos,cell_pos,symbol):\n",
        "    if symbol == \"X\" or symbol == \"O\":\n",
        "      self.plate[plate_pos[0]][plate_pos[1]].draw(cell_pos,symbol)\n",
        "      self.judge()\n",
        "    else:\n",
        "      raise ValueError()\n",
        "\n",
        "  def judge(self):\n",
        "    plate = [[a.winner,b.winner,c.winner] for [a,b,c] in self.plate]\n",
        "    winner = judge(plate)\n",
        "    if winner != \" \":\n",
        "      self.winner = winner\n",
        "      \n",
        "  def reset(self):\n",
        "    self.winner = \" \"\n",
        "    self.plate = [[ttt_plate(), ttt_plate(), ttt_plate()] for _ in range(3)]"
      ],
      "execution_count": 5,
      "outputs": []
    },
    {
      "cell_type": "code",
      "metadata": {
        "id": "F3xf2OJmTfk8"
      },
      "source": [
        "class ttt_agent():\n",
        "  def __init__(self, symbol):\n",
        "    self.symbol = symbol\n",
        "    self.opponent = \"O\" if symbol == \"X\" else \"X\"\n",
        "  \n",
        "  def action(self, ttt_large_plate):\n",
        "    copied_ttt_large_state = copy.deepcopy(ttt_large_plate)\n",
        "    action = ((-1,-1),(-1,-1)) # placeholder \n",
        "    ##################################\n",
        "    # TODO: Perform alpha-beta search to make a decision\n",
        "    # Hint: utilize BFS or DFS code you've write in yesterday\n",
        "    #################################\n",
        "    return action "
      ],
      "execution_count": 9,
      "outputs": []
    },
    {
      "cell_type": "code",
      "metadata": {
        "colab": {
          "base_uri": "https://localhost:8080/",
          "height": 370
        },
        "id": "fCSzxK9iskm_",
        "outputId": "5357a7de-5d2b-47aa-bb90-59fffdb1e157"
      },
      "source": [
        "play = ttt_large_plate()\n",
        "player_1 = ttt_agent(\"O\")\n",
        "player_2 = ttt_agent(\"X\")\n",
        "\n",
        "# If two players plays perfect, there must be no winner\n",
        "for i in range(40):\n",
        "  p1_act_platepos,p1_act_cellpos = player_1.action(play.plate)\n",
        "  play.draw(p1_act_platepos,p1_act_cellpos,\"O\")\n",
        "  p2_act_platepos,p2_act_cellpos = player_2.action(play.plate)\n",
        "  play.draw(p2_act_platepos,p2_act_cellpos,\"X\")\n",
        "p1_act = player_1.action(play.plate)\n",
        "play.draw(p1_act,\"O\")\n",
        "\n",
        "# Is it possible to assure there is no winner?\n",
        "print(ttt_large_plate.winner)"
      ],
      "execution_count": 11,
      "outputs": [
        {
          "output_type": "error",
          "ename": "TypeError",
          "evalue": "ignored",
          "traceback": [
            "\u001b[0;31m---------------------------------------------------------------------------\u001b[0m",
            "\u001b[0;31mTypeError\u001b[0m                                 Traceback (most recent call last)",
            "\u001b[0;32m<ipython-input-11-aaefdae726f7>\u001b[0m in \u001b[0;36m<module>\u001b[0;34m()\u001b[0m\n\u001b[1;32m      6\u001b[0m \u001b[0;32mfor\u001b[0m \u001b[0mi\u001b[0m \u001b[0;32min\u001b[0m \u001b[0mrange\u001b[0m\u001b[0;34m(\u001b[0m\u001b[0;36m40\u001b[0m\u001b[0;34m)\u001b[0m\u001b[0;34m:\u001b[0m\u001b[0;34m\u001b[0m\u001b[0;34m\u001b[0m\u001b[0m\n\u001b[1;32m      7\u001b[0m   \u001b[0mp1_act_platepos\u001b[0m\u001b[0;34m,\u001b[0m\u001b[0mp1_act_cellpos\u001b[0m \u001b[0;34m=\u001b[0m \u001b[0mplayer_1\u001b[0m\u001b[0;34m.\u001b[0m\u001b[0maction\u001b[0m\u001b[0;34m(\u001b[0m\u001b[0mplay\u001b[0m\u001b[0;34m.\u001b[0m\u001b[0mplate\u001b[0m\u001b[0;34m)\u001b[0m\u001b[0;34m\u001b[0m\u001b[0;34m\u001b[0m\u001b[0m\n\u001b[0;32m----> 8\u001b[0;31m   \u001b[0mplay\u001b[0m\u001b[0;34m.\u001b[0m\u001b[0mdraw\u001b[0m\u001b[0;34m(\u001b[0m\u001b[0mp1_act_platepos\u001b[0m\u001b[0;34m,\u001b[0m\u001b[0mp1_act_cellpos\u001b[0m\u001b[0;34m,\u001b[0m\u001b[0;34m\"O\"\u001b[0m\u001b[0;34m)\u001b[0m\u001b[0;34m\u001b[0m\u001b[0;34m\u001b[0m\u001b[0m\n\u001b[0m\u001b[1;32m      9\u001b[0m   \u001b[0mp2_act_platepos\u001b[0m\u001b[0;34m,\u001b[0m\u001b[0mp2_act_cellpos\u001b[0m \u001b[0;34m=\u001b[0m \u001b[0mplayer_2\u001b[0m\u001b[0;34m.\u001b[0m\u001b[0maction\u001b[0m\u001b[0;34m(\u001b[0m\u001b[0mplay\u001b[0m\u001b[0;34m.\u001b[0m\u001b[0mplate\u001b[0m\u001b[0;34m)\u001b[0m\u001b[0;34m\u001b[0m\u001b[0;34m\u001b[0m\u001b[0m\n\u001b[1;32m     10\u001b[0m   \u001b[0mplay\u001b[0m\u001b[0;34m.\u001b[0m\u001b[0mdraw\u001b[0m\u001b[0;34m(\u001b[0m\u001b[0mp2_act_platepos\u001b[0m\u001b[0;34m,\u001b[0m\u001b[0mp2_act_cellpos\u001b[0m\u001b[0;34m,\u001b[0m\u001b[0;34m\"X\"\u001b[0m\u001b[0;34m)\u001b[0m\u001b[0;34m\u001b[0m\u001b[0;34m\u001b[0m\u001b[0m\n",
            "\u001b[0;32m<ipython-input-5-5e5a0d25acae>\u001b[0m in \u001b[0;36mdraw\u001b[0;34m(self, plate_pos, cell_pos, symbol)\u001b[0m\n\u001b[1;32m      6\u001b[0m   \u001b[0;32mdef\u001b[0m \u001b[0mdraw\u001b[0m\u001b[0;34m(\u001b[0m\u001b[0mself\u001b[0m\u001b[0;34m,\u001b[0m\u001b[0mplate_pos\u001b[0m\u001b[0;34m,\u001b[0m\u001b[0mcell_pos\u001b[0m\u001b[0;34m,\u001b[0m\u001b[0msymbol\u001b[0m\u001b[0;34m)\u001b[0m\u001b[0;34m:\u001b[0m\u001b[0;34m\u001b[0m\u001b[0;34m\u001b[0m\u001b[0m\n\u001b[1;32m      7\u001b[0m     \u001b[0;32mif\u001b[0m \u001b[0msymbol\u001b[0m \u001b[0;34m==\u001b[0m \u001b[0;34m\"X\"\u001b[0m \u001b[0;32mor\u001b[0m \u001b[0msymbol\u001b[0m \u001b[0;34m==\u001b[0m \u001b[0;34m\"O\"\u001b[0m\u001b[0;34m:\u001b[0m\u001b[0;34m\u001b[0m\u001b[0;34m\u001b[0m\u001b[0m\n\u001b[0;32m----> 8\u001b[0;31m       \u001b[0mself\u001b[0m\u001b[0;34m.\u001b[0m\u001b[0mplate\u001b[0m\u001b[0;34m[\u001b[0m\u001b[0mplate_pos\u001b[0m\u001b[0;34m[\u001b[0m\u001b[0;36m0\u001b[0m\u001b[0;34m]\u001b[0m\u001b[0;34m]\u001b[0m\u001b[0;34m[\u001b[0m\u001b[0mplate_pos\u001b[0m\u001b[0;34m[\u001b[0m\u001b[0;36m1\u001b[0m\u001b[0;34m]\u001b[0m\u001b[0;34m]\u001b[0m\u001b[0;34m.\u001b[0m\u001b[0mdraw\u001b[0m\u001b[0;34m(\u001b[0m\u001b[0mcell_pos\u001b[0m\u001b[0;34m,\u001b[0m\u001b[0msymbol\u001b[0m\u001b[0;34m)\u001b[0m\u001b[0;34m\u001b[0m\u001b[0;34m\u001b[0m\u001b[0m\n\u001b[0m\u001b[1;32m      9\u001b[0m       \u001b[0mself\u001b[0m\u001b[0;34m.\u001b[0m\u001b[0mjudge\u001b[0m\u001b[0;34m(\u001b[0m\u001b[0;34m)\u001b[0m\u001b[0;34m\u001b[0m\u001b[0;34m\u001b[0m\u001b[0m\n\u001b[1;32m     10\u001b[0m     \u001b[0;32melse\u001b[0m\u001b[0;34m:\u001b[0m\u001b[0;34m\u001b[0m\u001b[0;34m\u001b[0m\u001b[0m\n",
            "\u001b[0;31mTypeError\u001b[0m: 'int' object is not subscriptable"
          ]
        }
      ]
    },
    {
      "cell_type": "code",
      "metadata": {
        "id": "6Pt54mb_sxUO"
      },
      "source": [
        ""
      ],
      "execution_count": null,
      "outputs": []
    }
  ]
}