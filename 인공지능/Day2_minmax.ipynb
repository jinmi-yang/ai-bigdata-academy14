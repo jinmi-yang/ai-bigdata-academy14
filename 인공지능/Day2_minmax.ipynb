{
  "nbformat": 4,
  "nbformat_minor": 0,
  "metadata": {
    "colab": {
      "name": "Day2_minmax.ipynb",
      "provenance": [],
      "collapsed_sections": [],
      "authorship_tag": "ABX9TyNZ2Cpr2NTKkMkdK9eLbw27",
      "include_colab_link": true
    },
    "kernelspec": {
      "name": "python3",
      "display_name": "Python 3"
    },
    "language_info": {
      "name": "python"
    }
  },
  "cells": [
    {
      "cell_type": "markdown",
      "metadata": {
        "id": "view-in-github",
        "colab_type": "text"
      },
      "source": [
        "<a href=\"https://colab.research.google.com/github/P17seongbin/2021_AI_demo/blob/main/Day2_minmax.ipynb\" target=\"_parent\"><img src=\"https://colab.research.google.com/assets/colab-badge.svg\" alt=\"Open In Colab\"/></a>"
      ]
    },
    {
      "cell_type": "code",
      "metadata": {
        "id": "bKutOt_9QHcZ"
      },
      "source": [
        "import time\n",
        "import copy"
      ],
      "execution_count": null,
      "outputs": []
    },
    {
      "cell_type": "code",
      "metadata": {
        "id": "fGlBPM5TZH62"
      },
      "source": [
        "def judge(state):\n",
        "  winner = \" \"\n",
        "  for i in range(3):\n",
        "    if state[i][0] == state[i][1] and state[i][1] == state[i][2] and state[i][2] != \" \":\n",
        "      winner = state[i][0]\n",
        "    elif state[0][i] == state[1][i] and state[1][i] == state[2][i] and state[2][i] != \" \":\n",
        "      winner =state[0][i]\n",
        "    if state[0][0] == state[1][1] and state[1][1] == state[2][2] and state[2][2] != \" \":\n",
        "      winner =state[0][0]\n",
        "    elif state[2][0] == state[1][1] and state[1][1] == state[0][2] and state[2][0] != \" \":\n",
        "      winner = state[1][1]\n",
        "  return winner"
      ],
      "execution_count": null,
      "outputs": []
    },
    {
      "cell_type": "code",
      "metadata": {
        "id": "ZzZRH922Rq0k"
      },
      "source": [
        "class ttt_plate():\n",
        "  def __init__(self):\n",
        "    self.reset()\n",
        "  def draw(self,pos,symbol):\n",
        "    if symbol == \"X\" or symbol == \"O\":\n",
        "      self.plate[pos[0]][pos[1]] = symbol\n",
        "      self.judge()\n",
        "    else:\n",
        "      raise ValueError()\n",
        "  def judge(self):\n",
        "    winner = judge(self.plate)\n",
        "    if winner != \" \":\n",
        "      self.winner = winner\n",
        "      \n",
        "  def reset(self):\n",
        "    self.winner = \" \"\n",
        "    self.plate = [[\" \", \" \", \" \"] for _ in range(3)]"
      ],
      "execution_count": null,
      "outputs": []
    },
    {
      "cell_type": "code",
      "metadata": {
        "colab": {
          "base_uri": "https://localhost:8080/"
        },
        "id": "F3xf2OJmTfk8",
        "outputId": "001f370f-fbd6-405c-c33a-c7b3a8ee0b26"
      },
      "source": [
        "class ttt_agent():\n",
        "  def __init__(self, symbol):\n",
        "    self.symbol = symbol\n",
        "    self.opponent = \"O\" if symbol == \"X\" else \"X\"\n",
        "  \n",
        "  def action(self, ttt_plate):\n",
        "    copied_ttt_state = copy.deepcopy(ttt_plate.plate)\n",
        "    action = (-1,-1) # placeholder \n",
        "    ##################################\n",
        "    # TODO: Perform minmax search to make a decision\n",
        "    #################################\n",
        "    return action "
      ],
      "execution_count": null,
      "outputs": [
        {
          "output_type": "stream",
          "text": [
            "O\n"
          ],
          "name": "stdout"
        }
      ]
    },
    {
      "cell_type": "code",
      "metadata": {
        "id": "TOjO6RbGBD7B"
      },
      "source": [
        "play = ttt_plate()\n",
        "player_1 = ttt_agent(\"O\")\n",
        "player_2 = ttt_agent(\"X\")\n",
        "\n",
        "# If two players plays perfect, there must be no winner\n",
        "for i in range(4):\n",
        "  p1_act = player_1.action(play.plate)\n",
        "  play.draw(p1_act,\"O\")\n",
        "  p2_act = player_2.action(play.plate)\n",
        "  play.draw(p2_act,\"X\")\n",
        "p1_act = player_1.action(play.plate)\n",
        "play.draw(p1_act,\"O\")\n",
        "\n",
        "# If two player plays perfect, there must be NO winner\n",
        "assert play.winner == \" \""
      ],
      "execution_count": null,
      "outputs": []
    }
  ]
}