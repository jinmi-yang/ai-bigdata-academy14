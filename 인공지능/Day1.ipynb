{
  "nbformat": 4,
  "nbformat_minor": 0,
  "metadata": {
    "colab": {
      "name": "Untitled0.ipynb",
      "provenance": [],
      "collapsed_sections": [],
      "authorship_tag": "ABX9TyO4gkblto5eEr4qI1Sh4NDu",
      "include_colab_link": true
    },
    "kernelspec": {
      "name": "python3",
      "display_name": "Python 3"
    },
    "language_info": {
      "name": "python"
    }
  },
  "cells": [
    {
      "cell_type": "markdown",
      "metadata": {
        "id": "view-in-github",
        "colab_type": "text"
      },
      "source": [
        "<a href=\"https://colab.research.google.com/github/P17seongbin/2021_AI_demo/blob/main/Day1.ipynb\" target=\"_parent\"><img src=\"https://colab.research.google.com/assets/colab-badge.svg\" alt=\"Open In Colab\"/></a>"
      ]
    },
    {
      "cell_type": "code",
      "metadata": {
        "id": "3o59zLnoMWO1"
      },
      "source": [
        "import itertools\n",
        "import time"
      ],
      "execution_count": null,
      "outputs": []
    },
    {
      "cell_type": "code",
      "metadata": {
        "id": "RC0KMlcUMU6Y"
      },
      "source": [
        "def judge(queen_pos_list):\n",
        "    for i, (x1, y1) in enumerate(queen_pos_list):\n",
        "        for (x2, y2) in queen_pos_list[i + 1:]:\n",
        "            # Two queens are threaten each other in cardinal direction\n",
        "            if x1 == x2 or y1 == y2:\n",
        "                return False\n",
        "            # Check Two queens are threaten each other in intercardinal direction\n",
        "            for dx, dy in intercardinal:\n",
        "                if (x2 - x1) * dx == (y2 - y1) * dy:\n",
        "                    return False\n",
        "    return True"
      ],
      "execution_count": null,
      "outputs": []
    },
    {
      "cell_type": "code",
      "metadata": {
        "id": "_j2DjhTrMebl"
      },
      "source": [
        "# first element: x axis,  second element: y axis\n",
        "intercardinal = [\n",
        "    (1, -1),\n",
        "    (1, 1),\n",
        "    (-1, 1),\n",
        "    (-1, -1)\n",
        "]"
      ],
      "execution_count": null,
      "outputs": []
    },
    {
      "cell_type": "code",
      "metadata": {
        "id": "wilOKXoeMdLN"
      },
      "source": [
        "# Implementation of BFS using FIFO Queue\n",
        "def eight_queens_BFS():\n",
        "    n = 8\n",
        "    n2 = n ** 2\n",
        "    ans_count = 0\n",
        "    queue = [([(x,y)],1) for x in range(1,9) for y in range(1,9)]\n",
        "    queue_len = n2\n",
        "    # using len() per each cycle is inefficient\n",
        "    while queue_len > 0:\n",
        "        # copy first element(front element) of the queue and remove it from the stack\n",
        "        queen_list, queen_count = queue.pop(0)\n",
        "        queue_len -= 1\n",
        "        if queen_count == n:\n",
        "            # Correctness of the datum should be judged when the datum is added in the queue.\n",
        "            ans_count += 1\n",
        "        else:\n",
        "            ####################################\n",
        "            # TODO: Implement single cycle of BFS\n",
        "            # queen_list = list of pos of queen.\n",
        "            # Hint: use append method (queue.append(XXX))\n",
        "            # Hint2: use judge function\n",
        "            # (Optional) Implement Dynamic Programming to prevent checking same route multiple times.\n",
        "            # (judge(queen_list) = True iff there are no two or more queens which are threatening each other)\n",
        "            raise NotImplementedError()\n",
        "        #########################################\n",
        "    return ans_count"
      ],
      "execution_count": null,
      "outputs": []
    },
    {
      "cell_type": "code",
      "metadata": {
        "id": "oABa6r36KpR0"
      },
      "source": [
        "# Implementation of DFS using FILO Stack\n",
        "def eight_queens_DFS():\n",
        "    n = 8\n",
        "    n2 = n ** 2\n",
        "    ans_count = 0\n",
        "    stack =  [([(x,y)],1) for x in range(1,9) for y in range(1,9)]\n",
        "    stack_len = 64\n",
        "    # using len() per each cycle is inefficient\n",
        "    while stack_len > 0:\n",
        "        # copy last element(top element) of the stack and remove it from the stack\n",
        "        queen_list, queen_count = stack.pop(-1)\n",
        "        stack_len -= 1\n",
        "        if queen_count == n:\n",
        "            # Correctness of the datum is already judged when the datum is added in the stack.\n",
        "            ans_count += 1\n",
        "            # print(f\"{ans_count}th case: {queen_list}\")\n",
        "        else:\n",
        "            ####################################\n",
        "            # TODO: Implement single cycle of DFS\n",
        "            # queen_list = list of pos of queen.\n",
        "            # Hint: use append method (queue.append(XXX))\n",
        "            # Hint2: use judge function\n",
        "            # (Optional) Implement Dynamic Programming to prevent checking same route multiple times.\n",
        "            # (judge(queen_list) = True iff there are no two or more queens which are threatening each other)\n",
        "            raise NotImplementedError()\n",
        "        #########################################\n",
        "    return ans_count"
      ],
      "execution_count": null,
      "outputs": []
    },
    {
      "cell_type": "code",
      "metadata": {
        "id": "0Sz1cjfJMhg9"
      },
      "source": [
        "def eight_queens_brute_force():\n",
        "    count = 0\n",
        "    iterator = itertools.combinations([(x,y) for x in range(1,9) for y in range(1,9)], 8)\n",
        "    for comb in iterator:\n",
        "        if judge(comb):\n",
        "            count += 1\n",
        "            print(f\"{count}th case: {comb}\")\n",
        "    return count"
      ],
      "execution_count": null,
      "outputs": []
    },
    {
      "cell_type": "code",
      "metadata": {
        "id": "G0DVOxYnMjsd"
      },
      "source": [
        "td = 0\n",
		"tb = 0\n",
        "r = 5\n",
        "for i in range(r):\n",
        "    st_time = time.time()\n",
        "    c = eight_queens_DFS()\n",
        "    ed_time = time.time()\n",
        "    td += (ed_time - st_time)\n",
        "    print(f\"Total Count: {c}\")\n",
        "    print(f\"Elapsed Time(DFS) ({i}th try): {ed_time-st_time}\")\n",
		"    st_time = time.time()\n",
        "    c = eight_queens_BFS()\n",
        "    ed_time = time.time()\n",
        "    tb += (ed_time - st_time)\n",
        "    print(f\"Total Count: {c}\")\n",
        "    print(f\"Elapsed Time(BFS) ({i}th try): {ed_time-st_time}\")\n",
        "\n",
        "print(f\"Elapsed Time(DFS) (Average): {td / r}\")\n",
		"print(f\"Elapsed Time(BFS) (Average): {tb / r}\")\n"
      ],
      "execution_count": null,
      "outputs": []
    },
    {
      "cell_type": "markdown",
      "metadata": {
        "id": "rzimMHPJMneo"
      },
      "source": [
        ""
      ]
    }
  ]
}