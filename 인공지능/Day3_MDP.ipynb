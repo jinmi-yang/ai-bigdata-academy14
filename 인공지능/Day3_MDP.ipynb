{
  "nbformat": 4,
  "nbformat_minor": 0,
  "metadata": {
    "colab": {
      "name": "Day3_MDP.ipynb",
      "provenance": [],
      "collapsed_sections": [],
      "authorship_tag": "ABX9TyNPhw0+AlpiPtSru4Suj66J",
      "include_colab_link": true
    },
    "kernelspec": {
      "name": "python3",
      "display_name": "Python 3"
    },
    "language_info": {
      "name": "python"
    }
  },
  "cells": [
    {
      "cell_type": "markdown",
      "metadata": {
        "id": "view-in-github",
        "colab_type": "text"
      },
      "source": [
        "<a href=\"https://colab.research.google.com/github/P17seongbin/2021_AI_demo/blob/main/Day3_MDP.ipynb\" target=\"_parent\"><img src=\"https://colab.research.google.com/assets/colab-badge.svg\" alt=\"Open In Colab\"/></a>"
      ]
    },
    {
      "cell_type": "code",
      "metadata": {
        "id": "BXIkWIdBwq_3"
      },
      "source": [
        "import time\n",
        "import copy\n",
        "import random"
      ],
      "execution_count": 1,
      "outputs": []
    },
    {
      "cell_type": "code",
      "metadata": {
        "id": "qeur8nBg2vHu"
      },
      "source": [
        "class car():\n",
        "  def __init__(self):\n",
        "    self.state_space = [\"cold\", \"warm\", \"overheated\"]\n",
        "    self.state = \"cold\"\n",
        "    # (s,a,s',p,reward)\n",
        "    self.transistion = {\n",
        "        \"cold\":\n",
        "        {\n",
        "            \"slow\":[(\"cold\",1.0,1)],\n",
        "         \"fast\": [(\"cold\",0.5,2),(\"warm\",0.5,2)]\n",
        "        },\n",
        "        \"warm\":\n",
        "        {\n",
        "            \"slow\":[(\"cold\",0.5,1),(\"warm\",0.5,1)],\n",
        "         \"fast\": [(\"overheated\",1,-10)]\n",
        "        }\n",
        "    }\n",
        "    self.time = 0\n",
        "    self.score = 0\n",
        "  def operate(self,operation):\n",
        "    self.time += 1\n",
        "    if self.state == \"overheated\":\n",
        "      return\n",
        "    else:\n",
        "      transistion_candidate = self.transistion[self.state][operation]\n",
        "      rand_value = random.random()\n",
        "      for tc in transistion_candidate:\n",
        "        if rand_value > tc[1]:\n",
        "          rand_value -= tc[1]\n",
        "        else:\n",
        "          self.score += tc[2]\n",
        "          self.state = tc[0]\n",
        "          break\n",
        "          \n",
        "  def profile(self):\n",
        "    print(f\"Time: {self.time}, Score: {self.score}, State: {self.state}\")\n",
        "    \n",
        "  def reset(self):\n",
        "    self.time = 0 \n",
        "    self.score = 0"
      ],
      "execution_count": 3,
      "outputs": []
    },
    {
      "cell_type": "code",
      "metadata": {
        "id": "I1yVcDoJ_6zW",
        "colab": {
          "base_uri": "https://localhost:8080/"
        },
        "outputId": "7a84705a-ce99-4e52-dea3-8be4e1e52f95"
      },
      "source": [
        "car1 = car()\n",
        "######################\n",
        "# TODO 1: Implement your policy \n",
        "# Example:\n",
        "# policy = {\n",
        "#    \"cold\": [(\"slow\",0.5),(\"fast\",0.5)],\n",
        "#    \"warm\": [(\"slow\",1),(\"fast\",0)]\n",
        "# }\n",
        "#####################\n",
        "policy = None \n",
        "for i in range(1,1001):\n",
        "  state = car1.state\n",
        "  transistion_candidate = policy[state]\n",
        "  rand_value = random.random()\n",
        "  for tc in transistion_candidate:\n",
        "    if rand_value > tc[1]:\n",
        "      rand_value -= tc[1]\n",
        "    else:\n",
        "      car1.operate(tc[0])\n",
        "      break\n",
        "  if i % 100 == 0:\n",
        "    car1.profile()"
      ],
      "execution_count": 9,
      "outputs": [
        {
          "output_type": "stream",
          "text": [
            "Time: 100, Score: 139, State: warm\n",
            "Time: 200, Score: 273, State: warm\n",
            "Time: 300, Score: 400, State: cold\n",
            "Time: 400, Score: 535, State: cold\n",
            "Time: 500, Score: 668, State: cold\n",
            "Time: 600, Score: 804, State: cold\n",
            "Time: 700, Score: 932, State: cold\n",
            "Time: 800, Score: 1058, State: cold\n",
            "Time: 900, Score: 1194, State: cold\n",
            "Time: 1000, Score: 1333, State: warm\n"
          ],
          "name": "stdout"
        }
      ]
    },
    {
      "cell_type": "code",
      "metadata": {
        "colab": {
          "base_uri": "https://localhost:8080/"
        },
        "id": "ESiMXXa_6QD_",
        "outputId": "cd6ddf89-e02e-4dc4-f83c-491daa645693"
      },
      "source": [
        "car2 = car()\n",
        "\n",
        "def policy2(car):\n",
        "  local_car = copy.deepcopy(car2)\n",
        "  ##############################\n",
        "  # TODO 2: Implement policy that observe search tree\n",
        "  # from current time to (current time + 2), which means observe next two actions\n",
        "  # and make optimial decision according to the observation\n",
        "  # HINT: you can utilize local copy of current state (car)\n",
        "  # HINT2: you can utilize transistion function of the car\n",
        "  # After implement, remove 'NotImplementedError()'! \n",
        "  #############################\n",
        "  raise NotImplementedError()\n",
        "\n",
        "for i in range(1,1001):\n",
        "  operation = policy2(car2)\n",
        "  car2.operate(operation)\n",
        "  if i % 100 == 0:\n",
        "    car2.profile()\n"
      ],
      "execution_count": 13,
      "outputs": [
        {
          "output_type": "stream",
          "text": [
            "Time: 100, Score: 148, State: warm\n",
            "Time: 200, Score: 304, State: warm\n",
            "Time: 300, Score: 456, State: cold\n",
            "Time: 400, Score: 613, State: cold\n",
            "Time: 500, Score: 763, State: warm\n",
            "Time: 600, Score: 909, State: cold\n",
            "Time: 700, Score: 1066, State: warm\n",
            "Time: 800, Score: 1218, State: cold\n",
            "Time: 900, Score: 1369, State: cold\n",
            "Time: 1000, Score: 1521, State: cold\n"
          ],
          "name": "stdout"
        }
      ]
    },
    {
      "cell_type": "code",
      "metadata": {
        "id": "s8rD6Qxi6P0Y"
      },
      "source": [
        ""
      ],
      "execution_count": null,
      "outputs": []
    }
  ]
}